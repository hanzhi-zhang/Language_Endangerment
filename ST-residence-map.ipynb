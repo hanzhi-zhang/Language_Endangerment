{
 "cells": [
  {
   "cell_type": "code",
   "execution_count": 1,
   "metadata": {},
   "outputs": [],
   "source": [
    "import plotly.graph_objects as go\n",
    "from plotly.offline import iplot, init_notebook_mode\n",
    "import plotly.express as px \n",
    "import plotly.io as pio\n",
    "import pandas as pd\n",
    "import seaborn as sns\n",
    "import matplotlib.pyplot as plt\n",
    "import numpy as np\n",
    "\n",
    "\n",
    "df = pd.read_csv('ST.csv',sep = ',')"
   ]
  },
  {
   "cell_type": "code",
   "execution_count": 2,
   "metadata": {},
   "outputs": [
    {
     "data": {
      "text/html": [
       "<div>\n",
       "<style scoped>\n",
       "    .dataframe tbody tr th:only-of-type {\n",
       "        vertical-align: middle;\n",
       "    }\n",
       "\n",
       "    .dataframe tbody tr th {\n",
       "        vertical-align: top;\n",
       "    }\n",
       "\n",
       "    .dataframe thead th {\n",
       "        text-align: right;\n",
       "    }\n",
       "</style>\n",
       "<table border=\"1\" class=\"dataframe\">\n",
       "  <thead>\n",
       "    <tr style=\"text-align: right;\">\n",
       "      <th></th>\n",
       "      <th>Language</th>\n",
       "      <th>Degree of endangerment</th>\n",
       "      <th>Level of endangerment</th>\n",
       "      <th>Number of speakers</th>\n",
       "      <th>Latitude</th>\n",
       "      <th>Longitude</th>\n",
       "      <th>Community Marriage Organisation</th>\n",
       "      <th>Name</th>\n",
       "      <th>fSD-dis-nondis</th>\n",
       "      <th>mSD-dis-nondis</th>\n",
       "      <th>...</th>\n",
       "      <th>Country codes alpha 3</th>\n",
       "      <th>ISO639-3 codes</th>\n",
       "      <th>Degree of endangerment.1</th>\n",
       "      <th>Alternate names</th>\n",
       "      <th>Name in the language</th>\n",
       "      <th>Number of speakers.1</th>\n",
       "      <th>Sources</th>\n",
       "      <th>Latitude.1</th>\n",
       "      <th>Longitude.1</th>\n",
       "      <th>Description of the location</th>\n",
       "    </tr>\n",
       "  </thead>\n",
       "  <tbody>\n",
       "    <tr>\n",
       "      <td>0</td>\n",
       "      <td>Achang</td>\n",
       "      <td>NaN</td>\n",
       "      <td>NaN</td>\n",
       "      <td>NaN</td>\n",
       "      <td>NaN</td>\n",
       "      <td>NaN</td>\n",
       "      <td>NaN</td>\n",
       "      <td>Achang</td>\n",
       "      <td>1.0</td>\n",
       "      <td>1.0</td>\n",
       "      <td>...</td>\n",
       "      <td>NaN</td>\n",
       "      <td>NaN</td>\n",
       "      <td>NaN</td>\n",
       "      <td>NaN</td>\n",
       "      <td>NaN</td>\n",
       "      <td>NaN</td>\n",
       "      <td>NaN</td>\n",
       "      <td>NaN</td>\n",
       "      <td>NaN</td>\n",
       "      <td>NaN</td>\n",
       "    </tr>\n",
       "    <tr>\n",
       "      <td>1</td>\n",
       "      <td>Aka</td>\n",
       "      <td>Definitely endangered</td>\n",
       "      <td>2.0</td>\n",
       "      <td>4000.0</td>\n",
       "      <td>27.1666</td>\n",
       "      <td>92.6312</td>\n",
       "      <td>Agamous</td>\n",
       "      <td>Aka</td>\n",
       "      <td>1.0</td>\n",
       "      <td>1.0</td>\n",
       "      <td>...</td>\n",
       "      <td>IND</td>\n",
       "      <td>soh</td>\n",
       "      <td>Critically endangered</td>\n",
       "      <td>Jebel Sillok</td>\n",
       "      <td>NaN</td>\n",
       "      <td>300.0</td>\n",
       "      <td>Bender, Ethnologue</td>\n",
       "      <td>11.0112</td>\n",
       "      <td>34.2333</td>\n",
       "      <td>NaN</td>\n",
       "    </tr>\n",
       "    <tr>\n",
       "      <td>2</td>\n",
       "      <td>Alike_T</td>\n",
       "      <td>NaN</td>\n",
       "      <td>NaN</td>\n",
       "      <td>NaN</td>\n",
       "      <td>NaN</td>\n",
       "      <td>NaN</td>\n",
       "      <td>Agamous</td>\n",
       "      <td>NaN</td>\n",
       "      <td>NaN</td>\n",
       "      <td>NaN</td>\n",
       "      <td>...</td>\n",
       "      <td>NaN</td>\n",
       "      <td>NaN</td>\n",
       "      <td>NaN</td>\n",
       "      <td>NaN</td>\n",
       "      <td>NaN</td>\n",
       "      <td>NaN</td>\n",
       "      <td>NaN</td>\n",
       "      <td>NaN</td>\n",
       "      <td>NaN</td>\n",
       "      <td>NaN</td>\n",
       "    </tr>\n",
       "    <tr>\n",
       "      <td>3</td>\n",
       "      <td>Ang_Kohima</td>\n",
       "      <td>Vulnerable</td>\n",
       "      <td>1.0</td>\n",
       "      <td>132000.0</td>\n",
       "      <td>25.7553</td>\n",
       "      <td>94.1308</td>\n",
       "      <td>Endogamy</td>\n",
       "      <td>Ang__Khonoma</td>\n",
       "      <td>1.0</td>\n",
       "      <td>0.0</td>\n",
       "      <td>...</td>\n",
       "      <td>IND</td>\n",
       "      <td>njm</td>\n",
       "      <td>Vulnerable</td>\n",
       "      <td>NaN</td>\n",
       "      <td>NaN</td>\n",
       "      <td>132000.0</td>\n",
       "      <td>NaN</td>\n",
       "      <td>25.7553</td>\n",
       "      <td>94.1308</td>\n",
       "      <td>between Dimapur (Assam) and Kohima (Nagaland)</td>\n",
       "    </tr>\n",
       "    <tr>\n",
       "      <td>4</td>\n",
       "      <td>Ang__Khonoma</td>\n",
       "      <td>NaN</td>\n",
       "      <td>NaN</td>\n",
       "      <td>NaN</td>\n",
       "      <td>NaN</td>\n",
       "      <td>NaN</td>\n",
       "      <td>Endogamy</td>\n",
       "      <td>Ang_Kohima</td>\n",
       "      <td>1.0</td>\n",
       "      <td>0.0</td>\n",
       "      <td>...</td>\n",
       "      <td>NaN</td>\n",
       "      <td>NaN</td>\n",
       "      <td>NaN</td>\n",
       "      <td>NaN</td>\n",
       "      <td>NaN</td>\n",
       "      <td>NaN</td>\n",
       "      <td>NaN</td>\n",
       "      <td>NaN</td>\n",
       "      <td>NaN</td>\n",
       "      <td>NaN</td>\n",
       "    </tr>\n",
       "  </tbody>\n",
       "</table>\n",
       "<p>5 rows × 28 columns</p>\n",
       "</div>"
      ],
      "text/plain": [
       "       Language Degree of endangerment  Level of endangerment  \\\n",
       "0        Achang                    NaN                    NaN   \n",
       "1           Aka  Definitely endangered                    2.0   \n",
       "2       Alike_T                    NaN                    NaN   \n",
       "3    Ang_Kohima             Vulnerable                    1.0   \n",
       "4  Ang__Khonoma                    NaN                    NaN   \n",
       "\n",
       "   Number of speakers  Latitude  Longitude Community Marriage Organisation  \\\n",
       "0                 NaN       NaN        NaN                             NaN   \n",
       "1              4000.0   27.1666    92.6312                         Agamous   \n",
       "2                 NaN       NaN        NaN                         Agamous   \n",
       "3            132000.0   25.7553    94.1308                        Endogamy   \n",
       "4                 NaN       NaN        NaN                        Endogamy   \n",
       "\n",
       "           Name  fSD-dis-nondis  mSD-dis-nondis  ...  Country codes alpha 3  \\\n",
       "0    Achang                 1.0             1.0  ...                    NaN   \n",
       "1    Aka                    1.0             1.0  ...                    IND   \n",
       "2           NaN             NaN             NaN  ...                    NaN   \n",
       "3  Ang__Khonoma             1.0             0.0  ...                    IND   \n",
       "4    Ang_Kohima             1.0             0.0  ...                    NaN   \n",
       "\n",
       "   ISO639-3 codes  Degree of endangerment.1  Alternate names  \\\n",
       "0             NaN                       NaN              NaN   \n",
       "1             soh     Critically endangered     Jebel Sillok   \n",
       "2             NaN                       NaN              NaN   \n",
       "3             njm                Vulnerable              NaN   \n",
       "4             NaN                       NaN              NaN   \n",
       "\n",
       "   Name in the language Number of speakers.1             Sources Latitude.1  \\\n",
       "0                   NaN                  NaN                 NaN        NaN   \n",
       "1                   NaN                300.0  Bender, Ethnologue    11.0112   \n",
       "2                   NaN                  NaN                 NaN        NaN   \n",
       "3                   NaN             132000.0                 NaN    25.7553   \n",
       "4                   NaN                  NaN                 NaN        NaN   \n",
       "\n",
       "  Longitude.1                    Description of the location  \n",
       "0         NaN                                            NaN  \n",
       "1     34.2333                                            NaN  \n",
       "2         NaN                                            NaN  \n",
       "3     94.1308  between Dimapur (Assam) and Kohima (Nagaland)  \n",
       "4         NaN                                            NaN  \n",
       "\n",
       "[5 rows x 28 columns]"
      ]
     },
     "execution_count": 2,
     "metadata": {},
     "output_type": "execute_result"
    }
   ],
   "source": [
    "df.head()"
   ]
  },
  {
   "cell_type": "code",
   "execution_count": 26,
   "metadata": {},
   "outputs": [
    {
     "data": {
      "application/vnd.plotly.v1+json": {
       "config": {
        "plotlyServerURL": "https://plot.ly"
       },
       "data": [
        {
         "hoverlabel": {
          "namelength": 0
         },
         "hovertemplate": "<b>%{hovertext}</b><br><br>Latitude=%{lat}<br>Longitude=%{lon}<br>Level of endangerment=%{marker.color}",
         "hovertext": [
          "Achang",
          "Aka",
          "Alike_T",
          "Ang_Kohima",
          "Ang__Khonoma",
          "Anong",
          "Ao_Chungli",
          "Ao_Mongsen",
          "Apatani",
          "Batang_T",
          "Beijing",
          "Bodo",
          "Bokar",
          "Bola",
          "Bugun",
          "Burmese",
          "CHN",
          "Chang",
          "Chepang",
          "Chokri",
          "Cuona_M",
          "Daofu_Horpa",
          "Dhimal",
          "Dimasa",
          "Dulong",
          "Dumi",
          "Ergong",
          "Ersu",
          "Fuzhou",
          "Gallong",
          "Gangte",
          "Garo",
          "Gazhuo",
          "Geba",
          "Geker",
          "Guiqiong",
          "Gurung",
          "Haka",
          "Hakka",
          "Hill_Miri",
          "Hmar",
          "Idu",
          "Jiarung",
          "Jingpo",
          "Jinuo",
          "Jirel",
          "Kabui",
          "Kaike",
          "Kanauri",
          "Kayan_Pekon",
          "Kelun",
          "Khaling",
          "Kham",
          "Khezhama",
          "Khoirao",
          "Konyak",
          "Konyak_D",
          "Kulung",
          "Langsu_Maru",
          "Lepcha",
          "Leqi",
          "Lhasa",
          "Lhota",
          "Liangmai",
          "Lijiang_Naxi",
          "Limbu",
          "Lushai",
          "Lusu",
          "Magar",
          "Manipuri",
          "Manu",
          "Mao",
          "Maram",
          "Miji",
          "Miju_Geman",
          "Mikir",
          "Milang",
          "Motuo_M",
          "Muya",
          "Mzieme",
          "N_Qiang",
          "Namuzi",
          "Ninglang_Naxi",
          "Nishi",
          "Nocte",
          "Nusu",
          "Old_Chinese",
          "Pa_O",
          "Padam",
          "Padaung",
          "Palaichi",
          "Phom",
          "Pochuri",
          "Pumi1",
          "Pumi2",
          "Queyu",
          "Rabha",
          "Rawang",
          "Rengma",
          "Rourou",
          "S_Qiang",
          "Sangtam",
          "Sema",
          "Serdukpen",
          "Sgaw",
          "Shaiyang",
          "Sherpa",
          "Shixing",
          "Sulong",
          "Sunwar",
          "Tagin",
          "Tamang",
          "Tangkul",
          "Taraon",
          "Thakali",
          "Tiddim",
          "Tujia",
          "Upper_Bangni",
          "W_Kayah",
          "Wancho",
          "Writ_Tib",
          "Xiandao",
          "Xiaxe_T",
          "Yamphe",
          "Yeinbaw",
          "Yimchungru",
          "Yintale",
          "Yogli",
          "Zeme",
          "Zhaba",
          "Zhaiwa"
         ],
         "lat": [
          null,
          27.1666,
          null,
          25.7553,
          null,
          27.1,
          26.320999999999998,
          26.4361,
          27.5228,
          null,
          39.9,
          26.7554,
          28.8735,
          25.0638,
          27.2546,
          20.39,
          35.51,
          26.2934,
          27.7552,
          25.8691,
          26.8279,
          31.091339,
          26.6192,
          24.7368,
          28,
          27.3095,
          null,
          28.7778,
          26.0745,
          28.1688,
          24.1968,
          25.666999999999998,
          24.0959,
          19.5,
          null,
          30.8148,
          28.275,
          22.67,
          25,
          27.7078,
          24.576999999999998,
          28.6496,
          31.4,
          22,
          21.4758,
          27.6419,
          24.7218,
          28.9642,
          27.6981,
          null,
          null,
          27.5781,
          28.4321,
          25.6811,
          25.2198,
          26.9367,
          null,
          27.518,
          21.7748,
          27.1153,
          26.1,
          28.37,
          26.1603,
          25.2794,
          27.46,
          27.096,
          24.4521,
          26.91,
          28.0816,
          24.296999999999997,
          19.16,
          25.5027,
          25.185,
          27.3351,
          28.1155,
          26.29,
          28.488000000000003,
          28.664,
          30.2593,
          25.6019,
          32.17,
          28.0727,
          27.8,
          23.42,
          27.1618,
          26.73,
          null,
          20.21,
          28.2463,
          null,
          null,
          26.7799,
          25.6712,
          28,
          28,
          30.8519,
          25.9284,
          27.1,
          25.958000000000002,
          26.1554,
          31.51,
          26.6032,
          25,
          27.1935,
          17.99,
          null,
          27.739,
          28.5263,
          27.839000000000002,
          27.3485,
          28.038,
          27.7365,
          25.0358,
          28.12,
          28.7146,
          23.61,
          28.828000000000003,
          null,
          18.69,
          26.9759,
          null,
          24.9263,
          null,
          27.5935,
          19.04,
          25.9629,
          18.94,
          27.4059,
          25.1,
          31.4,
          28.47
         ],
         "legendgroup": "",
         "lon": [
          null,
          92.6312,
          null,
          94.1308,
          null,
          98.7,
          94.515,
          94.6472,
          93.8177,
          null,
          116.4,
          92.8674,
          94.3807,
          98.2414,
          92.5323,
          93.97,
          104.11,
          94.9493,
          84.8144,
          94.7131,
          95.3623,
          101.748892,
          87.4635,
          92.9003,
          98.33,
          86.7521,
          null,
          102.1277,
          119.2965,
          94.7433,
          93.587,
          90.5,
          102.5463,
          96.95,
          null,
          101.7021,
          84.1782,
          93.67,
          116,
          94.0374,
          93.3178,
          95.8419,
          101.45,
          101,
          101.3111,
          86.2123,
          93.6584,
          82.9819,
          85.3198,
          null,
          null,
          86.7163,
          82.9635,
          94.367,
          94.1583,
          95.1745,
          null,
          86.9375,
          92.2741,
          88.4687,
          98.55,
          90.19,
          94.3725,
          93.6694,
          100.11,
          87.7356,
          93.2354,
          98.56,
          83.4301,
          92.4499,
          96.95,
          94.2681,
          93.9715,
          92.5735,
          96.2896,
          93.23,
          95.2954,
          94.0347,
          101.7497,
          93.8891,
          103.12,
          101.9565,
          100.9,
          104.85,
          95.7952,
          98.88,
          null,
          97.6,
          95.3668,
          null,
          null,
          94.9493,
          94.779,
          101,
          101,
          99.6659,
          90.9777,
          97.07,
          94.2462,
          99.2944,
          103.5,
          94.9603,
          94.2,
          92.351,
          97.71,
          null,
          86.839,
          100.4734,
          92.8784,
          86.2337,
          94.2022,
          85.6858,
          94.4824,
          95.88,
          83.6478,
          93.52,
          109.5904,
          null,
          97.49,
          95.4656,
          null,
          98.2414,
          null,
          87.3316,
          97.21,
          94.9713,
          97.34,
          96.427,
          93.3,
          100.473,
          96.476
         ],
         "marker": {
          "color": [
           null,
           2,
           null,
           1,
           null,
           4,
           1,
           1,
           1,
           null,
           0,
           1,
           1,
           2,
           2,
           0,
           0,
           1,
           1,
           1,
           1,
           1,
           3,
           1,
           1,
           4,
           null,
           2,
           0,
           1,
           2,
           1,
           2,
           0,
           null,
           1,
           2,
           0,
           0,
           2,
           1,
           2,
           0,
           4,
           2,
           2,
           1,
           2,
           2,
           null,
           null,
           2,
           2,
           1,
           1,
           1,
           null,
           1,
           3,
           2,
           null,
           0,
           1,
           1,
           0,
           2,
           1,
           0,
           2,
           1,
           0,
           1,
           1,
           2,
           1,
           1,
           2,
           2,
           1,
           1,
           1,
           1,
           0,
           0,
           1,
           0,
           null,
           0,
           1,
           null,
           null,
           1,
           1,
           1,
           1,
           2,
           1,
           0,
           1,
           2,
           1,
           1,
           1,
           1,
           0,
           5,
           1,
           2,
           2,
           1,
           1,
           1,
           1,
           1,
           1,
           0,
           3,
           null,
           0,
           1,
           null,
           4,
           null,
           2,
           0,
           1,
           2,
           1,
           1,
           1,
           2
          ],
          "coloraxis": "coloraxis",
          "size": 10
         },
         "mode": "markers",
         "name": "",
         "showlegend": false,
         "subplot": "mapbox",
         "type": "scattermapbox"
        }
       ],
       "layout": {
        "coloraxis": {
         "colorbar": {
          "title": {
           "text": "Level of endangerment"
          }
         },
         "colorscale": [
          [
           0,
           "#0d0887"
          ],
          [
           0.1111111111111111,
           "#46039f"
          ],
          [
           0.2222222222222222,
           "#7201a8"
          ],
          [
           0.3333333333333333,
           "#9c179e"
          ],
          [
           0.4444444444444444,
           "#bd3786"
          ],
          [
           0.5555555555555556,
           "#d8576b"
          ],
          [
           0.6666666666666666,
           "#ed7953"
          ],
          [
           0.7777777777777778,
           "#fb9f3a"
          ],
          [
           0.8888888888888888,
           "#fdca26"
          ],
          [
           1,
           "#f0f921"
          ]
         ]
        },
        "height": 500,
        "legend": {
         "tracegroupgap": 0
        },
        "mapbox": {
         "center": {
          "lat": 26.59377946956521,
          "lon": 95.35960862608694
         },
         "domain": {
          "x": [
           0,
           1
          ],
          "y": [
           0,
           1
          ]
         },
         "style": "stamen-terrain",
         "zoom": 3
        },
        "margin": {
         "b": 0,
         "l": 0,
         "r": 50,
         "t": 0
        },
        "template": {
         "data": {
          "bar": [
           {
            "error_x": {
             "color": "#2a3f5f"
            },
            "error_y": {
             "color": "#2a3f5f"
            },
            "marker": {
             "line": {
              "color": "#E5ECF6",
              "width": 0.5
             }
            },
            "type": "bar"
           }
          ],
          "barpolar": [
           {
            "marker": {
             "line": {
              "color": "#E5ECF6",
              "width": 0.5
             }
            },
            "type": "barpolar"
           }
          ],
          "carpet": [
           {
            "aaxis": {
             "endlinecolor": "#2a3f5f",
             "gridcolor": "white",
             "linecolor": "white",
             "minorgridcolor": "white",
             "startlinecolor": "#2a3f5f"
            },
            "baxis": {
             "endlinecolor": "#2a3f5f",
             "gridcolor": "white",
             "linecolor": "white",
             "minorgridcolor": "white",
             "startlinecolor": "#2a3f5f"
            },
            "type": "carpet"
           }
          ],
          "choropleth": [
           {
            "colorbar": {
             "outlinewidth": 0,
             "ticks": ""
            },
            "type": "choropleth"
           }
          ],
          "contour": [
           {
            "colorbar": {
             "outlinewidth": 0,
             "ticks": ""
            },
            "colorscale": [
             [
              0,
              "#0d0887"
             ],
             [
              0.1111111111111111,
              "#46039f"
             ],
             [
              0.2222222222222222,
              "#7201a8"
             ],
             [
              0.3333333333333333,
              "#9c179e"
             ],
             [
              0.4444444444444444,
              "#bd3786"
             ],
             [
              0.5555555555555556,
              "#d8576b"
             ],
             [
              0.6666666666666666,
              "#ed7953"
             ],
             [
              0.7777777777777778,
              "#fb9f3a"
             ],
             [
              0.8888888888888888,
              "#fdca26"
             ],
             [
              1,
              "#f0f921"
             ]
            ],
            "type": "contour"
           }
          ],
          "contourcarpet": [
           {
            "colorbar": {
             "outlinewidth": 0,
             "ticks": ""
            },
            "type": "contourcarpet"
           }
          ],
          "heatmap": [
           {
            "colorbar": {
             "outlinewidth": 0,
             "ticks": ""
            },
            "colorscale": [
             [
              0,
              "#0d0887"
             ],
             [
              0.1111111111111111,
              "#46039f"
             ],
             [
              0.2222222222222222,
              "#7201a8"
             ],
             [
              0.3333333333333333,
              "#9c179e"
             ],
             [
              0.4444444444444444,
              "#bd3786"
             ],
             [
              0.5555555555555556,
              "#d8576b"
             ],
             [
              0.6666666666666666,
              "#ed7953"
             ],
             [
              0.7777777777777778,
              "#fb9f3a"
             ],
             [
              0.8888888888888888,
              "#fdca26"
             ],
             [
              1,
              "#f0f921"
             ]
            ],
            "type": "heatmap"
           }
          ],
          "heatmapgl": [
           {
            "colorbar": {
             "outlinewidth": 0,
             "ticks": ""
            },
            "colorscale": [
             [
              0,
              "#0d0887"
             ],
             [
              0.1111111111111111,
              "#46039f"
             ],
             [
              0.2222222222222222,
              "#7201a8"
             ],
             [
              0.3333333333333333,
              "#9c179e"
             ],
             [
              0.4444444444444444,
              "#bd3786"
             ],
             [
              0.5555555555555556,
              "#d8576b"
             ],
             [
              0.6666666666666666,
              "#ed7953"
             ],
             [
              0.7777777777777778,
              "#fb9f3a"
             ],
             [
              0.8888888888888888,
              "#fdca26"
             ],
             [
              1,
              "#f0f921"
             ]
            ],
            "type": "heatmapgl"
           }
          ],
          "histogram": [
           {
            "marker": {
             "colorbar": {
              "outlinewidth": 0,
              "ticks": ""
             }
            },
            "type": "histogram"
           }
          ],
          "histogram2d": [
           {
            "colorbar": {
             "outlinewidth": 0,
             "ticks": ""
            },
            "colorscale": [
             [
              0,
              "#0d0887"
             ],
             [
              0.1111111111111111,
              "#46039f"
             ],
             [
              0.2222222222222222,
              "#7201a8"
             ],
             [
              0.3333333333333333,
              "#9c179e"
             ],
             [
              0.4444444444444444,
              "#bd3786"
             ],
             [
              0.5555555555555556,
              "#d8576b"
             ],
             [
              0.6666666666666666,
              "#ed7953"
             ],
             [
              0.7777777777777778,
              "#fb9f3a"
             ],
             [
              0.8888888888888888,
              "#fdca26"
             ],
             [
              1,
              "#f0f921"
             ]
            ],
            "type": "histogram2d"
           }
          ],
          "histogram2dcontour": [
           {
            "colorbar": {
             "outlinewidth": 0,
             "ticks": ""
            },
            "colorscale": [
             [
              0,
              "#0d0887"
             ],
             [
              0.1111111111111111,
              "#46039f"
             ],
             [
              0.2222222222222222,
              "#7201a8"
             ],
             [
              0.3333333333333333,
              "#9c179e"
             ],
             [
              0.4444444444444444,
              "#bd3786"
             ],
             [
              0.5555555555555556,
              "#d8576b"
             ],
             [
              0.6666666666666666,
              "#ed7953"
             ],
             [
              0.7777777777777778,
              "#fb9f3a"
             ],
             [
              0.8888888888888888,
              "#fdca26"
             ],
             [
              1,
              "#f0f921"
             ]
            ],
            "type": "histogram2dcontour"
           }
          ],
          "mesh3d": [
           {
            "colorbar": {
             "outlinewidth": 0,
             "ticks": ""
            },
            "type": "mesh3d"
           }
          ],
          "parcoords": [
           {
            "line": {
             "colorbar": {
              "outlinewidth": 0,
              "ticks": ""
             }
            },
            "type": "parcoords"
           }
          ],
          "pie": [
           {
            "automargin": true,
            "type": "pie"
           }
          ],
          "scatter": [
           {
            "marker": {
             "colorbar": {
              "outlinewidth": 0,
              "ticks": ""
             }
            },
            "type": "scatter"
           }
          ],
          "scatter3d": [
           {
            "line": {
             "colorbar": {
              "outlinewidth": 0,
              "ticks": ""
             }
            },
            "marker": {
             "colorbar": {
              "outlinewidth": 0,
              "ticks": ""
             }
            },
            "type": "scatter3d"
           }
          ],
          "scattercarpet": [
           {
            "marker": {
             "colorbar": {
              "outlinewidth": 0,
              "ticks": ""
             }
            },
            "type": "scattercarpet"
           }
          ],
          "scattergeo": [
           {
            "marker": {
             "colorbar": {
              "outlinewidth": 0,
              "ticks": ""
             }
            },
            "type": "scattergeo"
           }
          ],
          "scattergl": [
           {
            "marker": {
             "colorbar": {
              "outlinewidth": 0,
              "ticks": ""
             }
            },
            "type": "scattergl"
           }
          ],
          "scattermapbox": [
           {
            "marker": {
             "colorbar": {
              "outlinewidth": 0,
              "ticks": ""
             }
            },
            "type": "scattermapbox"
           }
          ],
          "scatterpolar": [
           {
            "marker": {
             "colorbar": {
              "outlinewidth": 0,
              "ticks": ""
             }
            },
            "type": "scatterpolar"
           }
          ],
          "scatterpolargl": [
           {
            "marker": {
             "colorbar": {
              "outlinewidth": 0,
              "ticks": ""
             }
            },
            "type": "scatterpolargl"
           }
          ],
          "scatterternary": [
           {
            "marker": {
             "colorbar": {
              "outlinewidth": 0,
              "ticks": ""
             }
            },
            "type": "scatterternary"
           }
          ],
          "surface": [
           {
            "colorbar": {
             "outlinewidth": 0,
             "ticks": ""
            },
            "colorscale": [
             [
              0,
              "#0d0887"
             ],
             [
              0.1111111111111111,
              "#46039f"
             ],
             [
              0.2222222222222222,
              "#7201a8"
             ],
             [
              0.3333333333333333,
              "#9c179e"
             ],
             [
              0.4444444444444444,
              "#bd3786"
             ],
             [
              0.5555555555555556,
              "#d8576b"
             ],
             [
              0.6666666666666666,
              "#ed7953"
             ],
             [
              0.7777777777777778,
              "#fb9f3a"
             ],
             [
              0.8888888888888888,
              "#fdca26"
             ],
             [
              1,
              "#f0f921"
             ]
            ],
            "type": "surface"
           }
          ],
          "table": [
           {
            "cells": {
             "fill": {
              "color": "#EBF0F8"
             },
             "line": {
              "color": "white"
             }
            },
            "header": {
             "fill": {
              "color": "#C8D4E3"
             },
             "line": {
              "color": "white"
             }
            },
            "type": "table"
           }
          ]
         },
         "layout": {
          "annotationdefaults": {
           "arrowcolor": "#2a3f5f",
           "arrowhead": 0,
           "arrowwidth": 1
          },
          "coloraxis": {
           "colorbar": {
            "outlinewidth": 0,
            "ticks": ""
           }
          },
          "colorscale": {
           "diverging": [
            [
             0,
             "#8e0152"
            ],
            [
             0.1,
             "#c51b7d"
            ],
            [
             0.2,
             "#de77ae"
            ],
            [
             0.3,
             "#f1b6da"
            ],
            [
             0.4,
             "#fde0ef"
            ],
            [
             0.5,
             "#f7f7f7"
            ],
            [
             0.6,
             "#e6f5d0"
            ],
            [
             0.7,
             "#b8e186"
            ],
            [
             0.8,
             "#7fbc41"
            ],
            [
             0.9,
             "#4d9221"
            ],
            [
             1,
             "#276419"
            ]
           ],
           "sequential": [
            [
             0,
             "#0d0887"
            ],
            [
             0.1111111111111111,
             "#46039f"
            ],
            [
             0.2222222222222222,
             "#7201a8"
            ],
            [
             0.3333333333333333,
             "#9c179e"
            ],
            [
             0.4444444444444444,
             "#bd3786"
            ],
            [
             0.5555555555555556,
             "#d8576b"
            ],
            [
             0.6666666666666666,
             "#ed7953"
            ],
            [
             0.7777777777777778,
             "#fb9f3a"
            ],
            [
             0.8888888888888888,
             "#fdca26"
            ],
            [
             1,
             "#f0f921"
            ]
           ],
           "sequentialminus": [
            [
             0,
             "#0d0887"
            ],
            [
             0.1111111111111111,
             "#46039f"
            ],
            [
             0.2222222222222222,
             "#7201a8"
            ],
            [
             0.3333333333333333,
             "#9c179e"
            ],
            [
             0.4444444444444444,
             "#bd3786"
            ],
            [
             0.5555555555555556,
             "#d8576b"
            ],
            [
             0.6666666666666666,
             "#ed7953"
            ],
            [
             0.7777777777777778,
             "#fb9f3a"
            ],
            [
             0.8888888888888888,
             "#fdca26"
            ],
            [
             1,
             "#f0f921"
            ]
           ]
          },
          "colorway": [
           "#636efa",
           "#EF553B",
           "#00cc96",
           "#ab63fa",
           "#FFA15A",
           "#19d3f3",
           "#FF6692",
           "#B6E880",
           "#FF97FF",
           "#FECB52"
          ],
          "font": {
           "color": "#2a3f5f"
          },
          "geo": {
           "bgcolor": "white",
           "lakecolor": "white",
           "landcolor": "#E5ECF6",
           "showlakes": true,
           "showland": true,
           "subunitcolor": "white"
          },
          "hoverlabel": {
           "align": "left"
          },
          "hovermode": "closest",
          "mapbox": {
           "style": "light"
          },
          "paper_bgcolor": "white",
          "plot_bgcolor": "#E5ECF6",
          "polar": {
           "angularaxis": {
            "gridcolor": "white",
            "linecolor": "white",
            "ticks": ""
           },
           "bgcolor": "#E5ECF6",
           "radialaxis": {
            "gridcolor": "white",
            "linecolor": "white",
            "ticks": ""
           }
          },
          "scene": {
           "xaxis": {
            "backgroundcolor": "#E5ECF6",
            "gridcolor": "white",
            "gridwidth": 2,
            "linecolor": "white",
            "showbackground": true,
            "ticks": "",
            "zerolinecolor": "white"
           },
           "yaxis": {
            "backgroundcolor": "#E5ECF6",
            "gridcolor": "white",
            "gridwidth": 2,
            "linecolor": "white",
            "showbackground": true,
            "ticks": "",
            "zerolinecolor": "white"
           },
           "zaxis": {
            "backgroundcolor": "#E5ECF6",
            "gridcolor": "white",
            "gridwidth": 2,
            "linecolor": "white",
            "showbackground": true,
            "ticks": "",
            "zerolinecolor": "white"
           }
          },
          "shapedefaults": {
           "line": {
            "color": "#2a3f5f"
           }
          },
          "ternary": {
           "aaxis": {
            "gridcolor": "white",
            "linecolor": "white",
            "ticks": ""
           },
           "baxis": {
            "gridcolor": "white",
            "linecolor": "white",
            "ticks": ""
           },
           "bgcolor": "#E5ECF6",
           "caxis": {
            "gridcolor": "white",
            "linecolor": "white",
            "ticks": ""
           }
          },
          "title": {
           "x": 0.05
          },
          "xaxis": {
           "automargin": true,
           "gridcolor": "white",
           "linecolor": "white",
           "ticks": "",
           "title": {
            "standoff": 15
           },
           "zerolinecolor": "white",
           "zerolinewidth": 2
          },
          "yaxis": {
           "automargin": true,
           "gridcolor": "white",
           "linecolor": "white",
           "ticks": "",
           "title": {
            "standoff": 15
           },
           "zerolinecolor": "white",
           "zerolinewidth": 2
          }
         }
        }
       }
      },
      "text/html": [
       "<div>\n",
       "        \n",
       "        \n",
       "            <div id=\"fe05d0c7-4c28-40a8-9481-761c74606c4b\" class=\"plotly-graph-div\" style=\"height:500px; width:100%;\"></div>\n",
       "            <script type=\"text/javascript\">\n",
       "                require([\"plotly\"], function(Plotly) {\n",
       "                    window.PLOTLYENV=window.PLOTLYENV || {};\n",
       "                    \n",
       "                if (document.getElementById(\"fe05d0c7-4c28-40a8-9481-761c74606c4b\")) {\n",
       "                    Plotly.newPlot(\n",
       "                        'fe05d0c7-4c28-40a8-9481-761c74606c4b',\n",
       "                        [{\"hoverlabel\": {\"namelength\": 0}, \"hovertemplate\": \"<b>%{hovertext}</b><br><br>Latitude=%{lat}<br>Longitude=%{lon}<br>Level of endangerment=%{marker.color}\", \"hovertext\": [\"Achang\", \"Aka\", \"Alike_T\", \"Ang_Kohima\", \"Ang__Khonoma\", \"Anong\", \"Ao_Chungli\", \"Ao_Mongsen\", \"Apatani\", \"Batang_T\", \"Beijing\", \"Bodo\", \"Bokar\", \"Bola\", \"Bugun\", \"Burmese\", \"CHN\", \"Chang\", \"Chepang\", \"Chokri\", \"Cuona_M\", \"Daofu_Horpa\", \"Dhimal\", \"Dimasa\", \"Dulong\", \"Dumi\", \"Ergong\", \"Ersu\", \"Fuzhou\", \"Gallong\", \"Gangte\", \"Garo\", \"Gazhuo\", \"Geba\", \"Geker\", \"Guiqiong\", \"Gurung\", \"Haka\", \"Hakka\", \"Hill_Miri\", \"Hmar\", \"Idu\", \"Jiarung\", \"Jingpo\", \"Jinuo\", \"Jirel\", \"Kabui\", \"Kaike\", \"Kanauri\", \"Kayan_Pekon\", \"Kelun\", \"Khaling\", \"Kham\", \"Khezhama\", \"Khoirao\", \"Konyak\", \"Konyak_D\", \"Kulung\", \"Langsu_Maru\", \"Lepcha\", \"Leqi\", \"Lhasa\", \"Lhota\", \"Liangmai\", \"Lijiang_Naxi\", \"Limbu\", \"Lushai\", \"Lusu\", \"Magar\", \"Manipuri\", \"Manu\", \"Mao\", \"Maram\", \"Miji\", \"Miju_Geman\", \"Mikir\", \"Milang\", \"Motuo_M\", \"Muya\", \"Mzieme\", \"N_Qiang\", \"Namuzi\", \"Ninglang_Naxi\", \"Nishi\", \"Nocte\", \"Nusu\", \"Old_Chinese\", \"Pa_O\", \"Padam\", \"Padaung\", \"Palaichi\", \"Phom\", \"Pochuri\", \"Pumi1\", \"Pumi2\", \"Queyu\", \"Rabha\", \"Rawang\", \"Rengma\", \"Rourou\", \"S_Qiang\", \"Sangtam\", \"Sema\", \"Serdukpen\", \"Sgaw\", \"Shaiyang\", \"Sherpa\", \"Shixing\", \"Sulong\", \"Sunwar\", \"Tagin\", \"Tamang\", \"Tangkul\", \"Taraon\", \"Thakali\", \"Tiddim\", \"Tujia\", \"Upper_Bangni\", \"W_Kayah\", \"Wancho\", \"Writ_Tib\", \"Xiandao\", \"Xiaxe_T\", \"Yamphe\", \"Yeinbaw\", \"Yimchungru\", \"Yintale\", \"Yogli\", \"Zeme\", \"Zhaba\", \"Zhaiwa\"], \"lat\": [null, 27.1666, null, 25.7553, null, 27.1, 26.320999999999998, 26.4361, 27.5228, null, 39.9, 26.7554, 28.8735, 25.0638, 27.2546, 20.39, 35.51, 26.2934, 27.7552, 25.8691, 26.8279, 31.091339, 26.6192, 24.7368, 28.0, 27.3095, null, 28.7778, 26.0745, 28.1688, 24.1968, 25.666999999999998, 24.0959, 19.5, null, 30.8148, 28.275, 22.67, 25.0, 27.7078, 24.576999999999998, 28.6496, 31.4, 22.0, 21.4758, 27.6419, 24.7218, 28.9642, 27.6981, null, null, 27.5781, 28.4321, 25.6811, 25.2198, 26.9367, null, 27.518, 21.7748, 27.1153, 26.1, 28.37, 26.1603, 25.2794, 27.46, 27.096, 24.4521, 26.91, 28.0816, 24.296999999999997, 19.16, 25.5027, 25.185, 27.3351, 28.1155, 26.29, 28.488000000000003, 28.664, 30.2593, 25.6019, 32.17, 28.0727, 27.8, 23.42, 27.1618, 26.73, null, 20.21, 28.2463, null, null, 26.7799, 25.6712, 28.0, 28.0, 30.8519, 25.9284, 27.1, 25.958000000000002, 26.1554, 31.51, 26.6032, 25.0, 27.1935, 17.99, null, 27.739, 28.5263, 27.839000000000002, 27.3485, 28.038, 27.7365, 25.0358, 28.12, 28.7146, 23.61, 28.828000000000003, null, 18.69, 26.9759, null, 24.9263, null, 27.5935, 19.04, 25.9629, 18.94, 27.4059, 25.1, 31.4, 28.47], \"legendgroup\": \"\", \"lon\": [null, 92.6312, null, 94.1308, null, 98.7, 94.515, 94.6472, 93.8177, null, 116.4, 92.8674, 94.3807, 98.2414, 92.5323, 93.97, 104.11, 94.9493, 84.8144, 94.7131, 95.3623, 101.748892, 87.4635, 92.9003, 98.33, 86.7521, null, 102.1277, 119.2965, 94.7433, 93.587, 90.5, 102.5463, 96.95, null, 101.7021, 84.1782, 93.67, 116.0, 94.0374, 93.3178, 95.8419, 101.45, 101.0, 101.3111, 86.2123, 93.6584, 82.9819, 85.3198, null, null, 86.7163, 82.9635, 94.367, 94.1583, 95.1745, null, 86.9375, 92.2741, 88.4687, 98.55, 90.19, 94.3725, 93.6694, 100.11, 87.7356, 93.2354, 98.56, 83.4301, 92.4499, 96.95, 94.2681, 93.9715, 92.5735, 96.2896, 93.23, 95.2954, 94.0347, 101.7497, 93.8891, 103.12, 101.9565, 100.9, 104.85, 95.7952, 98.88, null, 97.6, 95.3668, null, null, 94.9493, 94.779, 101.0, 101.0, 99.6659, 90.9777, 97.07, 94.2462, 99.2944, 103.5, 94.9603, 94.2, 92.351, 97.71, null, 86.839, 100.4734, 92.8784, 86.2337, 94.2022, 85.6858, 94.4824, 95.88, 83.6478, 93.52, 109.5904, null, 97.49, 95.4656, null, 98.2414, null, 87.3316, 97.21, 94.9713, 97.34, 96.427, 93.3, 100.473, 96.476], \"marker\": {\"color\": [null, 2.0, null, 1.0, null, 4.0, 1.0, 1.0, 1.0, null, 0.0, 1.0, 1.0, 2.0, 2.0, 0.0, 0.0, 1.0, 1.0, 1.0, 1.0, 1.0, 3.0, 1.0, 1.0, 4.0, null, 2.0, 0.0, 1.0, 2.0, 1.0, 2.0, 0.0, null, 1.0, 2.0, 0.0, 0.0, 2.0, 1.0, 2.0, 0.0, 4.0, 2.0, 2.0, 1.0, 2.0, 2.0, null, null, 2.0, 2.0, 1.0, 1.0, 1.0, null, 1.0, 3.0, 2.0, null, 0.0, 1.0, 1.0, 0.0, 2.0, 1.0, 0.0, 2.0, 1.0, 0.0, 1.0, 1.0, 2.0, 1.0, 1.0, 2.0, 2.0, 1.0, 1.0, 1.0, 1.0, 0.0, 0.0, 1.0, 0.0, null, 0.0, 1.0, null, null, 1.0, 1.0, 1.0, 1.0, 2.0, 1.0, 0.0, 1.0, 2.0, 1.0, 1.0, 1.0, 1.0, 0.0, 5.0, 1.0, 2.0, 2.0, 1.0, 1.0, 1.0, 1.0, 1.0, 1.0, 0.0, 3.0, null, 0.0, 1.0, null, 4.0, null, 2.0, 0.0, 1.0, 2.0, 1.0, 1.0, 1.0, 2.0], \"coloraxis\": \"coloraxis\", \"size\": 10}, \"mode\": \"markers\", \"name\": \"\", \"showlegend\": false, \"subplot\": \"mapbox\", \"type\": \"scattermapbox\"}],\n",
       "                        {\"coloraxis\": {\"colorbar\": {\"title\": {\"text\": \"Level of endangerment\"}}, \"colorscale\": [[0.0, \"#0d0887\"], [0.1111111111111111, \"#46039f\"], [0.2222222222222222, \"#7201a8\"], [0.3333333333333333, \"#9c179e\"], [0.4444444444444444, \"#bd3786\"], [0.5555555555555556, \"#d8576b\"], [0.6666666666666666, \"#ed7953\"], [0.7777777777777778, \"#fb9f3a\"], [0.8888888888888888, \"#fdca26\"], [1.0, \"#f0f921\"]]}, \"height\": 500, \"legend\": {\"tracegroupgap\": 0}, \"mapbox\": {\"center\": {\"lat\": 26.59377946956521, \"lon\": 95.35960862608694}, \"domain\": {\"x\": [0.0, 1.0], \"y\": [0.0, 1.0]}, \"style\": \"stamen-terrain\", \"zoom\": 3}, \"margin\": {\"b\": 0, \"l\": 0, \"r\": 50, \"t\": 0}, \"template\": {\"data\": {\"bar\": [{\"error_x\": {\"color\": \"#2a3f5f\"}, \"error_y\": {\"color\": \"#2a3f5f\"}, \"marker\": {\"line\": {\"color\": \"#E5ECF6\", \"width\": 0.5}}, \"type\": \"bar\"}], \"barpolar\": [{\"marker\": {\"line\": {\"color\": \"#E5ECF6\", \"width\": 0.5}}, \"type\": \"barpolar\"}], \"carpet\": [{\"aaxis\": {\"endlinecolor\": \"#2a3f5f\", \"gridcolor\": \"white\", \"linecolor\": \"white\", \"minorgridcolor\": \"white\", \"startlinecolor\": \"#2a3f5f\"}, \"baxis\": {\"endlinecolor\": \"#2a3f5f\", \"gridcolor\": \"white\", \"linecolor\": \"white\", \"minorgridcolor\": \"white\", \"startlinecolor\": \"#2a3f5f\"}, \"type\": \"carpet\"}], \"choropleth\": [{\"colorbar\": {\"outlinewidth\": 0, \"ticks\": \"\"}, \"type\": \"choropleth\"}], \"contour\": [{\"colorbar\": {\"outlinewidth\": 0, \"ticks\": \"\"}, \"colorscale\": [[0.0, \"#0d0887\"], [0.1111111111111111, \"#46039f\"], [0.2222222222222222, \"#7201a8\"], [0.3333333333333333, \"#9c179e\"], [0.4444444444444444, \"#bd3786\"], [0.5555555555555556, \"#d8576b\"], [0.6666666666666666, \"#ed7953\"], [0.7777777777777778, \"#fb9f3a\"], [0.8888888888888888, \"#fdca26\"], [1.0, \"#f0f921\"]], \"type\": \"contour\"}], \"contourcarpet\": [{\"colorbar\": {\"outlinewidth\": 0, \"ticks\": \"\"}, \"type\": \"contourcarpet\"}], \"heatmap\": [{\"colorbar\": {\"outlinewidth\": 0, \"ticks\": \"\"}, \"colorscale\": [[0.0, \"#0d0887\"], [0.1111111111111111, \"#46039f\"], [0.2222222222222222, \"#7201a8\"], [0.3333333333333333, \"#9c179e\"], [0.4444444444444444, \"#bd3786\"], [0.5555555555555556, \"#d8576b\"], [0.6666666666666666, \"#ed7953\"], [0.7777777777777778, \"#fb9f3a\"], [0.8888888888888888, \"#fdca26\"], [1.0, \"#f0f921\"]], \"type\": \"heatmap\"}], \"heatmapgl\": [{\"colorbar\": {\"outlinewidth\": 0, \"ticks\": \"\"}, \"colorscale\": [[0.0, \"#0d0887\"], [0.1111111111111111, \"#46039f\"], [0.2222222222222222, \"#7201a8\"], [0.3333333333333333, \"#9c179e\"], [0.4444444444444444, \"#bd3786\"], [0.5555555555555556, \"#d8576b\"], [0.6666666666666666, \"#ed7953\"], [0.7777777777777778, \"#fb9f3a\"], [0.8888888888888888, \"#fdca26\"], [1.0, \"#f0f921\"]], \"type\": \"heatmapgl\"}], \"histogram\": [{\"marker\": {\"colorbar\": {\"outlinewidth\": 0, \"ticks\": \"\"}}, \"type\": \"histogram\"}], \"histogram2d\": [{\"colorbar\": {\"outlinewidth\": 0, \"ticks\": \"\"}, \"colorscale\": [[0.0, \"#0d0887\"], [0.1111111111111111, \"#46039f\"], [0.2222222222222222, \"#7201a8\"], [0.3333333333333333, \"#9c179e\"], [0.4444444444444444, \"#bd3786\"], [0.5555555555555556, \"#d8576b\"], [0.6666666666666666, \"#ed7953\"], [0.7777777777777778, \"#fb9f3a\"], [0.8888888888888888, \"#fdca26\"], [1.0, \"#f0f921\"]], \"type\": \"histogram2d\"}], \"histogram2dcontour\": [{\"colorbar\": {\"outlinewidth\": 0, \"ticks\": \"\"}, \"colorscale\": [[0.0, \"#0d0887\"], [0.1111111111111111, \"#46039f\"], [0.2222222222222222, \"#7201a8\"], [0.3333333333333333, \"#9c179e\"], [0.4444444444444444, \"#bd3786\"], [0.5555555555555556, \"#d8576b\"], [0.6666666666666666, \"#ed7953\"], [0.7777777777777778, \"#fb9f3a\"], [0.8888888888888888, \"#fdca26\"], [1.0, \"#f0f921\"]], \"type\": \"histogram2dcontour\"}], \"mesh3d\": [{\"colorbar\": {\"outlinewidth\": 0, \"ticks\": \"\"}, \"type\": \"mesh3d\"}], \"parcoords\": [{\"line\": {\"colorbar\": {\"outlinewidth\": 0, \"ticks\": \"\"}}, \"type\": \"parcoords\"}], \"pie\": [{\"automargin\": true, \"type\": \"pie\"}], \"scatter\": [{\"marker\": {\"colorbar\": {\"outlinewidth\": 0, \"ticks\": \"\"}}, \"type\": \"scatter\"}], \"scatter3d\": [{\"line\": {\"colorbar\": {\"outlinewidth\": 0, \"ticks\": \"\"}}, \"marker\": {\"colorbar\": {\"outlinewidth\": 0, \"ticks\": \"\"}}, \"type\": \"scatter3d\"}], \"scattercarpet\": [{\"marker\": {\"colorbar\": {\"outlinewidth\": 0, \"ticks\": \"\"}}, \"type\": \"scattercarpet\"}], \"scattergeo\": [{\"marker\": {\"colorbar\": {\"outlinewidth\": 0, \"ticks\": \"\"}}, \"type\": \"scattergeo\"}], \"scattergl\": [{\"marker\": {\"colorbar\": {\"outlinewidth\": 0, \"ticks\": \"\"}}, \"type\": \"scattergl\"}], \"scattermapbox\": [{\"marker\": {\"colorbar\": {\"outlinewidth\": 0, \"ticks\": \"\"}}, \"type\": \"scattermapbox\"}], \"scatterpolar\": [{\"marker\": {\"colorbar\": {\"outlinewidth\": 0, \"ticks\": \"\"}}, \"type\": \"scatterpolar\"}], \"scatterpolargl\": [{\"marker\": {\"colorbar\": {\"outlinewidth\": 0, \"ticks\": \"\"}}, \"type\": \"scatterpolargl\"}], \"scatterternary\": [{\"marker\": {\"colorbar\": {\"outlinewidth\": 0, \"ticks\": \"\"}}, \"type\": \"scatterternary\"}], \"surface\": [{\"colorbar\": {\"outlinewidth\": 0, \"ticks\": \"\"}, \"colorscale\": [[0.0, \"#0d0887\"], [0.1111111111111111, \"#46039f\"], [0.2222222222222222, \"#7201a8\"], [0.3333333333333333, \"#9c179e\"], [0.4444444444444444, \"#bd3786\"], [0.5555555555555556, \"#d8576b\"], [0.6666666666666666, \"#ed7953\"], [0.7777777777777778, \"#fb9f3a\"], [0.8888888888888888, \"#fdca26\"], [1.0, \"#f0f921\"]], \"type\": \"surface\"}], \"table\": [{\"cells\": {\"fill\": {\"color\": \"#EBF0F8\"}, \"line\": {\"color\": \"white\"}}, \"header\": {\"fill\": {\"color\": \"#C8D4E3\"}, \"line\": {\"color\": \"white\"}}, \"type\": \"table\"}]}, \"layout\": {\"annotationdefaults\": {\"arrowcolor\": \"#2a3f5f\", \"arrowhead\": 0, \"arrowwidth\": 1}, \"coloraxis\": {\"colorbar\": {\"outlinewidth\": 0, \"ticks\": \"\"}}, \"colorscale\": {\"diverging\": [[0, \"#8e0152\"], [0.1, \"#c51b7d\"], [0.2, \"#de77ae\"], [0.3, \"#f1b6da\"], [0.4, \"#fde0ef\"], [0.5, \"#f7f7f7\"], [0.6, \"#e6f5d0\"], [0.7, \"#b8e186\"], [0.8, \"#7fbc41\"], [0.9, \"#4d9221\"], [1, \"#276419\"]], \"sequential\": [[0.0, \"#0d0887\"], [0.1111111111111111, \"#46039f\"], [0.2222222222222222, \"#7201a8\"], [0.3333333333333333, \"#9c179e\"], [0.4444444444444444, \"#bd3786\"], [0.5555555555555556, \"#d8576b\"], [0.6666666666666666, \"#ed7953\"], [0.7777777777777778, \"#fb9f3a\"], [0.8888888888888888, \"#fdca26\"], [1.0, \"#f0f921\"]], \"sequentialminus\": [[0.0, \"#0d0887\"], [0.1111111111111111, \"#46039f\"], [0.2222222222222222, \"#7201a8\"], [0.3333333333333333, \"#9c179e\"], [0.4444444444444444, \"#bd3786\"], [0.5555555555555556, \"#d8576b\"], [0.6666666666666666, \"#ed7953\"], [0.7777777777777778, \"#fb9f3a\"], [0.8888888888888888, \"#fdca26\"], [1.0, \"#f0f921\"]]}, \"colorway\": [\"#636efa\", \"#EF553B\", \"#00cc96\", \"#ab63fa\", \"#FFA15A\", \"#19d3f3\", \"#FF6692\", \"#B6E880\", \"#FF97FF\", \"#FECB52\"], \"font\": {\"color\": \"#2a3f5f\"}, \"geo\": {\"bgcolor\": \"white\", \"lakecolor\": \"white\", \"landcolor\": \"#E5ECF6\", \"showlakes\": true, \"showland\": true, \"subunitcolor\": \"white\"}, \"hoverlabel\": {\"align\": \"left\"}, \"hovermode\": \"closest\", \"mapbox\": {\"style\": \"light\"}, \"paper_bgcolor\": \"white\", \"plot_bgcolor\": \"#E5ECF6\", \"polar\": {\"angularaxis\": {\"gridcolor\": \"white\", \"linecolor\": \"white\", \"ticks\": \"\"}, \"bgcolor\": \"#E5ECF6\", \"radialaxis\": {\"gridcolor\": \"white\", \"linecolor\": \"white\", \"ticks\": \"\"}}, \"scene\": {\"xaxis\": {\"backgroundcolor\": \"#E5ECF6\", \"gridcolor\": \"white\", \"gridwidth\": 2, \"linecolor\": \"white\", \"showbackground\": true, \"ticks\": \"\", \"zerolinecolor\": \"white\"}, \"yaxis\": {\"backgroundcolor\": \"#E5ECF6\", \"gridcolor\": \"white\", \"gridwidth\": 2, \"linecolor\": \"white\", \"showbackground\": true, \"ticks\": \"\", \"zerolinecolor\": \"white\"}, \"zaxis\": {\"backgroundcolor\": \"#E5ECF6\", \"gridcolor\": \"white\", \"gridwidth\": 2, \"linecolor\": \"white\", \"showbackground\": true, \"ticks\": \"\", \"zerolinecolor\": \"white\"}}, \"shapedefaults\": {\"line\": {\"color\": \"#2a3f5f\"}}, \"ternary\": {\"aaxis\": {\"gridcolor\": \"white\", \"linecolor\": \"white\", \"ticks\": \"\"}, \"baxis\": {\"gridcolor\": \"white\", \"linecolor\": \"white\", \"ticks\": \"\"}, \"bgcolor\": \"#E5ECF6\", \"caxis\": {\"gridcolor\": \"white\", \"linecolor\": \"white\", \"ticks\": \"\"}}, \"title\": {\"x\": 0.05}, \"xaxis\": {\"automargin\": true, \"gridcolor\": \"white\", \"linecolor\": \"white\", \"ticks\": \"\", \"title\": {\"standoff\": 15}, \"zerolinecolor\": \"white\", \"zerolinewidth\": 2}, \"yaxis\": {\"automargin\": true, \"gridcolor\": \"white\", \"linecolor\": \"white\", \"ticks\": \"\", \"title\": {\"standoff\": 15}, \"zerolinecolor\": \"white\", \"zerolinewidth\": 2}}}},\n",
       "                        {\"responsive\": true}\n",
       "                    ).then(function(){\n",
       "                            \n",
       "var gd = document.getElementById('fe05d0c7-4c28-40a8-9481-761c74606c4b');\n",
       "var x = new MutationObserver(function (mutations, observer) {{\n",
       "        var display = window.getComputedStyle(gd).display;\n",
       "        if (!display || display === 'none') {{\n",
       "            console.log([gd, 'removed!']);\n",
       "            Plotly.purge(gd);\n",
       "            observer.disconnect();\n",
       "        }}\n",
       "}});\n",
       "\n",
       "// Listen for the removal of the full notebook cells\n",
       "var notebookContainer = gd.closest('#notebook-container');\n",
       "if (notebookContainer) {{\n",
       "    x.observe(notebookContainer, {childList: true});\n",
       "}}\n",
       "\n",
       "// Listen for the clearing of the current output cell\n",
       "var outputEl = gd.closest('.output');\n",
       "if (outputEl) {{\n",
       "    x.observe(outputEl, {childList: true});\n",
       "}}\n",
       "\n",
       "                        })\n",
       "                };\n",
       "                });\n",
       "            </script>\n",
       "        </div>"
      ]
     },
     "metadata": {},
     "output_type": "display_data"
    }
   ],
   "source": [
    "fig = px.scatter_mapbox(df, lat=\"Latitude\", lon=\"Longitude\", hover_name=\"Language\", color=\"Level of endangerment\", color_discrete_sequence=px.colors.sequential.Plasma_r, zoom=3, height=500,size_max=600)\n",
    "fig.update_layout(mapbox_style=\"stamen-terrain\")\n",
    "fig.update_layout(margin={\"r\":50,\"t\":0,\"l\":0,\"b\":0})\n",
    "fig.update_traces(marker=dict(size=10)) \n",
    "fig.show()"
   ]
  },
  {
   "cell_type": "code",
   "execution_count": 23,
   "metadata": {},
   "outputs": [],
   "source": [
    "pn = pd.read_csv('PN.csv',sep = ',')"
   ]
  },
  {
   "cell_type": "code",
   "execution_count": 24,
   "metadata": {},
   "outputs": [
    {
     "data": {
      "text/html": [
       "<div>\n",
       "<style scoped>\n",
       "    .dataframe tbody tr th:only-of-type {\n",
       "        vertical-align: middle;\n",
       "    }\n",
       "\n",
       "    .dataframe tbody tr th {\n",
       "        vertical-align: top;\n",
       "    }\n",
       "\n",
       "    .dataframe thead th {\n",
       "        text-align: right;\n",
       "    }\n",
       "</style>\n",
       "<table border=\"1\" class=\"dataframe\">\n",
       "  <thead>\n",
       "    <tr style=\"text-align: right;\">\n",
       "      <th></th>\n",
       "      <th>Unnamed: 0</th>\n",
       "      <th>Subsistence [B004]</th>\n",
       "      <th>Community marriage organisation</th>\n",
       "      <th>ID</th>\n",
       "      <th>Name in English</th>\n",
       "      <th>ISO639-3 codes</th>\n",
       "      <th>Degree of endangerment</th>\n",
       "      <th>Level of endangerment</th>\n",
       "      <th>Alternate names</th>\n",
       "      <th>Name in the language</th>\n",
       "      <th>Number of speakers</th>\n",
       "      <th>Latitude</th>\n",
       "      <th>Longitude</th>\n",
       "    </tr>\n",
       "  </thead>\n",
       "  <tbody>\n",
       "    <tr>\n",
       "      <td>0</td>\n",
       "      <td>Adnyamathanha</td>\n",
       "      <td>NaN</td>\n",
       "      <td>NaN</td>\n",
       "      <td>164.0</td>\n",
       "      <td>Adnyamathanha</td>\n",
       "      <td>adt</td>\n",
       "      <td>Definitely endangered</td>\n",
       "      <td>2.0</td>\n",
       "      <td>NaN</td>\n",
       "      <td>NaN</td>\n",
       "      <td>100.0</td>\n",
       "      <td>-30.6000</td>\n",
       "      <td>138.6035</td>\n",
       "    </tr>\n",
       "    <tr>\n",
       "      <td>1</td>\n",
       "      <td>AghuTharrnggala</td>\n",
       "      <td>NaN</td>\n",
       "      <td>NaN</td>\n",
       "      <td>NaN</td>\n",
       "      <td>NaN</td>\n",
       "      <td>NaN</td>\n",
       "      <td>NaN</td>\n",
       "      <td>NaN</td>\n",
       "      <td>NaN</td>\n",
       "      <td>NaN</td>\n",
       "      <td>NaN</td>\n",
       "      <td>NaN</td>\n",
       "      <td>NaN</td>\n",
       "    </tr>\n",
       "    <tr>\n",
       "      <td>2</td>\n",
       "      <td>Alngith</td>\n",
       "      <td>NaN</td>\n",
       "      <td>NaN</td>\n",
       "      <td>NaN</td>\n",
       "      <td>NaN</td>\n",
       "      <td>NaN</td>\n",
       "      <td>NaN</td>\n",
       "      <td>NaN</td>\n",
       "      <td>NaN</td>\n",
       "      <td>NaN</td>\n",
       "      <td>NaN</td>\n",
       "      <td>NaN</td>\n",
       "      <td>NaN</td>\n",
       "    </tr>\n",
       "    <tr>\n",
       "      <td>3</td>\n",
       "      <td>Alyawarr</td>\n",
       "      <td>Gathering</td>\n",
       "      <td>Agamous</td>\n",
       "      <td>165.0</td>\n",
       "      <td>Alawa</td>\n",
       "      <td>alh</td>\n",
       "      <td>Critically endangered</td>\n",
       "      <td>4.0</td>\n",
       "      <td>NaN</td>\n",
       "      <td>NaN</td>\n",
       "      <td>22.0</td>\n",
       "      <td>-16.4676</td>\n",
       "      <td>134.0771</td>\n",
       "    </tr>\n",
       "    <tr>\n",
       "      <td>4</td>\n",
       "      <td>Aminungo</td>\n",
       "      <td>NaN</td>\n",
       "      <td>NaN</td>\n",
       "      <td>NaN</td>\n",
       "      <td>NaN</td>\n",
       "      <td>NaN</td>\n",
       "      <td>NaN</td>\n",
       "      <td>NaN</td>\n",
       "      <td>NaN</td>\n",
       "      <td>NaN</td>\n",
       "      <td>NaN</td>\n",
       "      <td>NaN</td>\n",
       "      <td>NaN</td>\n",
       "    </tr>\n",
       "  </tbody>\n",
       "</table>\n",
       "</div>"
      ],
      "text/plain": [
       "        Unnamed: 0 Subsistence [B004] Community marriage organisation     ID  \\\n",
       "0    Adnyamathanha                NaN                             NaN  164.0   \n",
       "1  AghuTharrnggala                NaN                             NaN    NaN   \n",
       "2          Alngith                NaN                             NaN    NaN   \n",
       "3         Alyawarr          Gathering                         Agamous  165.0   \n",
       "4         Aminungo                NaN                             NaN    NaN   \n",
       "\n",
       "  Name in English ISO639-3 codes Degree of endangerment  \\\n",
       "0   Adnyamathanha            adt  Definitely endangered   \n",
       "1             NaN            NaN                    NaN   \n",
       "2             NaN            NaN                    NaN   \n",
       "3           Alawa            alh  Critically endangered   \n",
       "4             NaN            NaN                    NaN   \n",
       "\n",
       "   Level of endangerment Alternate names  Name in the language  \\\n",
       "0                    2.0             NaN                   NaN   \n",
       "1                    NaN             NaN                   NaN   \n",
       "2                    NaN             NaN                   NaN   \n",
       "3                    4.0             NaN                   NaN   \n",
       "4                    NaN             NaN                   NaN   \n",
       "\n",
       "   Number of speakers  Latitude  Longitude  \n",
       "0               100.0  -30.6000   138.6035  \n",
       "1                 NaN       NaN        NaN  \n",
       "2                 NaN       NaN        NaN  \n",
       "3                22.0  -16.4676   134.0771  \n",
       "4                 NaN       NaN        NaN  "
      ]
     },
     "execution_count": 24,
     "metadata": {},
     "output_type": "execute_result"
    }
   ],
   "source": [
    "pn.head()"
   ]
  },
  {
   "cell_type": "code",
   "execution_count": 33,
   "metadata": {
    "scrolled": true
   },
   "outputs": [
    {
     "data": {
      "application/vnd.plotly.v1+json": {
       "config": {
        "plotlyServerURL": "https://plot.ly"
       },
       "data": [
        {
         "hoverlabel": {
          "namelength": 0
         },
         "hovertemplate": "<b>%{hovertext}</b><br><br>Latitude=%{lat}<br>Longitude=%{lon}<br>Level of endangerment=%{marker.color}",
         "hovertext": [
          "Adnyamathanha",
          null,
          null,
          "Alawa",
          null,
          null,
          "Arabana",
          null,
          null,
          null,
          null,
          null,
          null,
          null,
          null,
          null,
          null,
          null,
          null,
          null,
          null,
          null,
          null,
          null,
          null,
          null,
          null,
          null,
          null,
          null,
          null,
          null,
          null,
          "Dharawal",
          null,
          "Dharug",
          null,
          null,
          null,
          "Dhurga",
          null,
          null,
          null,
          null,
          null,
          null,
          "Djinang",
          "Dungidjau",
          null,
          "Dyirbal",
          null,
          null,
          null,
          "Ganggalidda",
          null,
          null,
          null,
          null,
          null,
          null,
          null,
          null,
          null,
          null,
          "Gumbaynggirr",
          null,
          null,
          null,
          null,
          "Gupapuyngu",
          null,
          "Guugu Yimidhirr",
          null,
          null,
          null,
          null,
          null,
          null,
          null,
          null,
          null,
          null,
          null,
          null,
          null,
          null,
          "Kalaw Lagaw Ya",
          null,
          null,
          null,
          null,
          "Karajarri",
          null,
          null,
          null,
          null,
          null,
          null,
          null,
          "Kayardild",
          null,
          null,
          null,
          null,
          "Koko Bera",
          null,
          null,
          "Kukatja",
          null,
          "Kuku Yalanji",
          null,
          null,
          "Kunjen",
          null,
          "Kurrama",
          "Kurtjar",
          null,
          "Kuuku Ya'u",
          "Lardil",
          null,
          null,
          null,
          null,
          null,
          "Mangarla",
          "Mangarla",
          null,
          null,
          "Martuwangka",
          null,
          null,
          null,
          null,
          null,
          null,
          null,
          null,
          null,
          null,
          null,
          null,
          null,
          null,
          null,
          null,
          null,
          "Mudburra",
          "Mudburra",
          null,
          null,
          null,
          null,
          null,
          null,
          "Ngaanyatjarra",
          null,
          null,
          null,
          null,
          null,
          null,
          "Ngarinman",
          "Ngarla",
          "Ngarluma",
          null,
          null,
          null,
          null,
          null,
          null,
          null,
          null,
          null,
          null,
          null,
          null,
          null,
          "Nyamal",
          null,
          null,
          null,
          null,
          null,
          null,
          null,
          null,
          null,
          null,
          null,
          null,
          "Pintupi",
          null,
          "Pitjantjatjara",
          null,
          null,
          null,
          null,
          null,
          "Ritharrngu",
          null,
          null,
          null,
          null,
          null,
          null,
          "Tharkarri",
          null,
          null,
          null,
          null,
          "Umpila",
          null,
          null,
          null,
          null,
          null,
          null,
          null,
          "Wajarri",
          null,
          null,
          null,
          "Walmajarri",
          "Walmajarri",
          "Walmajarri",
          null,
          null,
          null,
          null,
          null,
          null,
          null,
          null,
          null,
          "Warlpiri",
          null,
          "Warnman",
          null,
          null,
          "Warumungu",
          null,
          null,
          null,
          null,
          null,
          null,
          null,
          null,
          "Wik Mungkan",
          "Wik Ngathan",
          "Wiradjuri",
          null,
          null,
          null,
          null,
          null,
          null,
          null,
          null,
          null,
          null,
          null,
          "Yan-nhangu",
          "Yanyuwa",
          null,
          null,
          null,
          null,
          null,
          null,
          null,
          null,
          null,
          null,
          null,
          "Yir Yoront",
          null,
          null,
          null,
          null,
          null,
          null,
          null,
          null,
          null,
          null,
          null,
          null,
          null,
          null,
          null,
          null,
          null,
          null,
          null,
          null,
          null,
          null,
          null,
          null,
          null,
          null,
          null,
          null,
          null,
          null
         ],
         "lat": [
          -30.6,
          null,
          null,
          -16.4676,
          null,
          null,
          -28.6134,
          null,
          null,
          null,
          null,
          -28.616999999999997,
          null,
          null,
          null,
          null,
          null,
          null,
          null,
          null,
          null,
          null,
          null,
          null,
          null,
          null,
          null,
          null,
          null,
          null,
          null,
          null,
          null,
          -34.7235,
          null,
          -34.0344,
          null,
          null,
          null,
          -35.4964,
          null,
          null,
          -28.58,
          null,
          null,
          null,
          -12.3507,
          -26.5885,
          -25.4,
          -18.0205,
          null,
          -14.17,
          null,
          -17.1001,
          null,
          null,
          null,
          null,
          null,
          null,
          null,
          null,
          null,
          null,
          -30.3349,
          null,
          null,
          null,
          null,
          -12.6624,
          null,
          -14.8598,
          null,
          null,
          null,
          null,
          null,
          null,
          null,
          null,
          null,
          -19.15,
          null,
          null,
          null,
          null,
          -10.0828,
          null,
          null,
          null,
          null,
          -19.0205,
          null,
          -21.09,
          null,
          null,
          null,
          null,
          -34.8498,
          -17.1197,
          null,
          null,
          null,
          null,
          -15.6865,
          null,
          null,
          -21.2074,
          null,
          -15.8148,
          null,
          null,
          -16.1316,
          null,
          -21.6383,
          -18.0623,
          null,
          -12.0185,
          -16.5526,
          null,
          null,
          null,
          null,
          null,
          -20.159000000000002,
          -20.159000000000002,
          null,
          null,
          -24.1975,
          null,
          null,
          null,
          null,
          null,
          null,
          null,
          null,
          null,
          null,
          null,
          null,
          null,
          null,
          null,
          null,
          null,
          -16.9727,
          -16.9727,
          null,
          null,
          null,
          null,
          null,
          null,
          -26.037,
          null,
          null,
          null,
          null,
          null,
          null,
          -16.6782,
          -20.5916,
          -21.1664,
          -35.95,
          null,
          null,
          null,
          -31.28,
          null,
          null,
          null,
          null,
          null,
          null,
          null,
          null,
          -21.4019,
          null,
          null,
          null,
          null,
          -31.13,
          null,
          null,
          null,
          null,
          null,
          null,
          null,
          -22.8882,
          null,
          -26.0719,
          null,
          null,
          null,
          null,
          null,
          -13.1543,
          null,
          null,
          null,
          null,
          null,
          null,
          -24.148000000000003,
          null,
          null,
          null,
          null,
          -13.0366,
          null,
          null,
          null,
          null,
          null,
          null,
          null,
          -26.8841,
          null,
          null,
          null,
          -19.9939,
          -19.9939,
          -19.9939,
          null,
          null,
          null,
          null,
          null,
          null,
          null,
          null,
          null,
          -20.8177,
          null,
          -22.9786,
          null,
          null,
          -19.5183,
          -19.44,
          null,
          null,
          null,
          null,
          null,
          null,
          null,
          -12.9403,
          -14.9561,
          -34.5608,
          -31.56,
          -37.64,
          null,
          null,
          null,
          null,
          null,
          null,
          null,
          null,
          null,
          -12.094000000000001,
          -15.9613,
          null,
          null,
          null,
          null,
          null,
          null,
          null,
          null,
          null,
          null,
          null,
          -16.3095,
          null,
          null,
          null,
          null,
          null,
          null,
          -29.84,
          null,
          null,
          null,
          null,
          null,
          null,
          null,
          null,
          null,
          null,
          null,
          null,
          null,
          null,
          null,
          null,
          null,
          null,
          null,
          null,
          null,
          null,
          null
         ],
         "legendgroup": "",
         "lon": [
          138.6035,
          null,
          null,
          134.0771,
          null,
          null,
          135.8349,
          null,
          null,
          null,
          null,
          153.004,
          null,
          null,
          null,
          null,
          null,
          null,
          null,
          null,
          null,
          null,
          null,
          null,
          null,
          null,
          null,
          null,
          null,
          null,
          null,
          null,
          null,
          150.5786,
          null,
          150.9301,
          null,
          null,
          null,
          150.249,
          null,
          null,
          139.09,
          null,
          null,
          null,
          135.1098,
          152.2705,
          152.345,
          145.4809,
          null,
          144.246,
          null,
          138.3618,
          null,
          null,
          null,
          null,
          null,
          null,
          null,
          null,
          null,
          null,
          152.8198,
          null,
          null,
          null,
          null,
          136.549,
          null,
          144.7338,
          null,
          null,
          null,
          null,
          null,
          null,
          null,
          null,
          null,
          127.88,
          null,
          null,
          null,
          null,
          142.1081,
          null,
          null,
          null,
          null,
          122.3437,
          null,
          117.66,
          null,
          null,
          null,
          null,
          138.6474,
          139.4604,
          null,
          null,
          null,
          null,
          141.5917,
          null,
          null,
          126.4746,
          null,
          144.9316,
          null,
          null,
          142.207,
          null,
          117.9711,
          140.4052,
          null,
          142.8112,
          139.3176,
          null,
          null,
          null,
          null,
          null,
          122.6513,
          122.6513,
          null,
          null,
          122.9589,
          null,
          null,
          null,
          null,
          null,
          null,
          null,
          null,
          null,
          null,
          null,
          null,
          null,
          null,
          null,
          null,
          null,
          131.77,
          131.77,
          null,
          null,
          null,
          null,
          null,
          null,
          124.541,
          null,
          null,
          null,
          null,
          null,
          null,
          129.7485,
          119.0917,
          117.3339,
          139.82,
          null,
          null,
          null,
          146.05,
          null,
          null,
          null,
          null,
          null,
          null,
          null,
          null,
          119.3225,
          null,
          null,
          null,
          null,
          144.22,
          null,
          null,
          null,
          null,
          null,
          null,
          null,
          128.3203,
          null,
          129.9517,
          null,
          null,
          null,
          null,
          null,
          134.8242,
          null,
          null,
          null,
          null,
          null,
          null,
          114.6533,
          null,
          null,
          null,
          null,
          143.3386,
          null,
          null,
          null,
          null,
          null,
          null,
          null,
          116.6748,
          null,
          null,
          null,
          125.5297,
          125.5297,
          125.5297,
          null,
          null,
          null,
          null,
          null,
          null,
          null,
          null,
          null,
          131.6601,
          null,
          122.7832,
          null,
          null,
          133.9453,
          144.65,
          null,
          null,
          null,
          null,
          null,
          null,
          null,
          141.9873,
          141.8884,
          147.041,
          132.85,
          145.59,
          null,
          null,
          null,
          null,
          null,
          null,
          null,
          null,
          null,
          134.89,
          136.3842,
          null,
          null,
          null,
          null,
          null,
          null,
          null,
          null,
          null,
          null,
          null,
          141.4489,
          null,
          null,
          null,
          null,
          null,
          null,
          149.81,
          null,
          null,
          null,
          null,
          null,
          null,
          null,
          null,
          null,
          null,
          null,
          null,
          null,
          null,
          null,
          null,
          null,
          null,
          null,
          null,
          null,
          null,
          null
         ],
         "marker": {
          "color": [
           2,
           null,
           null,
           4,
           null,
           null,
           4,
           null,
           null,
           null,
           null,
           4,
           null,
           null,
           null,
           null,
           null,
           null,
           null,
           null,
           null,
           null,
           null,
           null,
           null,
           null,
           null,
           null,
           null,
           null,
           null,
           null,
           null,
           4,
           null,
           4,
           null,
           null,
           null,
           4,
           null,
           null,
           null,
           null,
           null,
           null,
           2,
           5,
           5,
           4,
           null,
           4,
           null,
           4,
           null,
           null,
           null,
           null,
           null,
           null,
           null,
           null,
           null,
           null,
           4,
           null,
           null,
           null,
           null,
           1,
           null,
           1,
           null,
           null,
           null,
           null,
           null,
           null,
           null,
           null,
           null,
           4,
           null,
           null,
           null,
           null,
           2,
           null,
           null,
           null,
           null,
           4,
           null,
           4,
           null,
           null,
           null,
           null,
           null,
           4,
           null,
           null,
           null,
           null,
           3,
           null,
           null,
           1,
           null,
           3,
           null,
           null,
           4,
           null,
           4,
           5,
           null,
           4,
           4,
           null,
           null,
           null,
           null,
           null,
           4,
           4,
           null,
           null,
           1,
           null,
           null,
           null,
           null,
           null,
           null,
           null,
           null,
           null,
           null,
           null,
           null,
           null,
           null,
           null,
           null,
           null,
           3,
           3,
           null,
           null,
           null,
           null,
           null,
           null,
           1,
           null,
           null,
           null,
           null,
           null,
           null,
           3,
           5,
           4,
           4,
           null,
           null,
           null,
           4,
           null,
           null,
           null,
           null,
           null,
           null,
           null,
           null,
           3,
           null,
           null,
           null,
           null,
           4,
           null,
           null,
           null,
           null,
           null,
           null,
           null,
           1,
           null,
           1,
           null,
           null,
           null,
           null,
           null,
           2,
           null,
           null,
           null,
           null,
           null,
           null,
           4,
           null,
           null,
           null,
           null,
           3,
           null,
           null,
           null,
           null,
           null,
           null,
           null,
           3,
           null,
           null,
           null,
           2,
           2,
           2,
           null,
           null,
           null,
           null,
           null,
           null,
           null,
           null,
           null,
           1,
           null,
           3,
           null,
           null,
           3,
           4,
           null,
           null,
           null,
           null,
           null,
           null,
           null,
           1,
           2,
           4,
           4,
           4,
           null,
           null,
           null,
           null,
           null,
           null,
           null,
           null,
           null,
           2,
           3,
           null,
           null,
           null,
           null,
           null,
           null,
           null,
           null,
           null,
           null,
           null,
           5,
           null,
           null,
           null,
           null,
           null,
           null,
           5,
           null,
           null,
           null,
           null,
           null,
           null,
           null,
           null,
           null,
           null,
           null,
           null,
           null,
           null,
           null,
           null,
           null,
           null,
           null,
           null,
           null,
           null,
           null
          ],
          "coloraxis": "coloraxis",
          "size": 10
         },
         "mode": "markers",
         "name": "",
         "showlegend": false,
         "subplot": "mapbox",
         "type": "scattermapbox"
        }
       ],
       "layout": {
        "coloraxis": {
         "colorbar": {
          "title": {
           "text": "Level of endangerment"
          }
         },
         "colorscale": [
          [
           0,
           "#0d0887"
          ],
          [
           0.1111111111111111,
           "#46039f"
          ],
          [
           0.2222222222222222,
           "#7201a8"
          ],
          [
           0.3333333333333333,
           "#9c179e"
          ],
          [
           0.4444444444444444,
           "#bd3786"
          ],
          [
           0.5555555555555556,
           "#d8576b"
          ],
          [
           0.6666666666666666,
           "#ed7953"
          ],
          [
           0.7777777777777778,
           "#fb9f3a"
          ],
          [
           0.8888888888888888,
           "#fdca26"
          ],
          [
           1,
           "#f0f921"
          ]
         ]
        },
        "height": 300,
        "legend": {
         "tracegroupgap": 0
        },
        "mapbox": {
         "center": {
          "lat": -21.886687878787875,
          "lon": 135.74701363636362
         },
         "domain": {
          "x": [
           0,
           1
          ],
          "y": [
           0,
           1
          ]
         },
         "style": "stamen-terrain",
         "zoom": 3
        },
        "margin": {
         "b": 0,
         "l": 0,
         "r": 50,
         "t": 0
        },
        "template": {
         "data": {
          "bar": [
           {
            "error_x": {
             "color": "#2a3f5f"
            },
            "error_y": {
             "color": "#2a3f5f"
            },
            "marker": {
             "line": {
              "color": "#E5ECF6",
              "width": 0.5
             }
            },
            "type": "bar"
           }
          ],
          "barpolar": [
           {
            "marker": {
             "line": {
              "color": "#E5ECF6",
              "width": 0.5
             }
            },
            "type": "barpolar"
           }
          ],
          "carpet": [
           {
            "aaxis": {
             "endlinecolor": "#2a3f5f",
             "gridcolor": "white",
             "linecolor": "white",
             "minorgridcolor": "white",
             "startlinecolor": "#2a3f5f"
            },
            "baxis": {
             "endlinecolor": "#2a3f5f",
             "gridcolor": "white",
             "linecolor": "white",
             "minorgridcolor": "white",
             "startlinecolor": "#2a3f5f"
            },
            "type": "carpet"
           }
          ],
          "choropleth": [
           {
            "colorbar": {
             "outlinewidth": 0,
             "ticks": ""
            },
            "type": "choropleth"
           }
          ],
          "contour": [
           {
            "colorbar": {
             "outlinewidth": 0,
             "ticks": ""
            },
            "colorscale": [
             [
              0,
              "#0d0887"
             ],
             [
              0.1111111111111111,
              "#46039f"
             ],
             [
              0.2222222222222222,
              "#7201a8"
             ],
             [
              0.3333333333333333,
              "#9c179e"
             ],
             [
              0.4444444444444444,
              "#bd3786"
             ],
             [
              0.5555555555555556,
              "#d8576b"
             ],
             [
              0.6666666666666666,
              "#ed7953"
             ],
             [
              0.7777777777777778,
              "#fb9f3a"
             ],
             [
              0.8888888888888888,
              "#fdca26"
             ],
             [
              1,
              "#f0f921"
             ]
            ],
            "type": "contour"
           }
          ],
          "contourcarpet": [
           {
            "colorbar": {
             "outlinewidth": 0,
             "ticks": ""
            },
            "type": "contourcarpet"
           }
          ],
          "heatmap": [
           {
            "colorbar": {
             "outlinewidth": 0,
             "ticks": ""
            },
            "colorscale": [
             [
              0,
              "#0d0887"
             ],
             [
              0.1111111111111111,
              "#46039f"
             ],
             [
              0.2222222222222222,
              "#7201a8"
             ],
             [
              0.3333333333333333,
              "#9c179e"
             ],
             [
              0.4444444444444444,
              "#bd3786"
             ],
             [
              0.5555555555555556,
              "#d8576b"
             ],
             [
              0.6666666666666666,
              "#ed7953"
             ],
             [
              0.7777777777777778,
              "#fb9f3a"
             ],
             [
              0.8888888888888888,
              "#fdca26"
             ],
             [
              1,
              "#f0f921"
             ]
            ],
            "type": "heatmap"
           }
          ],
          "heatmapgl": [
           {
            "colorbar": {
             "outlinewidth": 0,
             "ticks": ""
            },
            "colorscale": [
             [
              0,
              "#0d0887"
             ],
             [
              0.1111111111111111,
              "#46039f"
             ],
             [
              0.2222222222222222,
              "#7201a8"
             ],
             [
              0.3333333333333333,
              "#9c179e"
             ],
             [
              0.4444444444444444,
              "#bd3786"
             ],
             [
              0.5555555555555556,
              "#d8576b"
             ],
             [
              0.6666666666666666,
              "#ed7953"
             ],
             [
              0.7777777777777778,
              "#fb9f3a"
             ],
             [
              0.8888888888888888,
              "#fdca26"
             ],
             [
              1,
              "#f0f921"
             ]
            ],
            "type": "heatmapgl"
           }
          ],
          "histogram": [
           {
            "marker": {
             "colorbar": {
              "outlinewidth": 0,
              "ticks": ""
             }
            },
            "type": "histogram"
           }
          ],
          "histogram2d": [
           {
            "colorbar": {
             "outlinewidth": 0,
             "ticks": ""
            },
            "colorscale": [
             [
              0,
              "#0d0887"
             ],
             [
              0.1111111111111111,
              "#46039f"
             ],
             [
              0.2222222222222222,
              "#7201a8"
             ],
             [
              0.3333333333333333,
              "#9c179e"
             ],
             [
              0.4444444444444444,
              "#bd3786"
             ],
             [
              0.5555555555555556,
              "#d8576b"
             ],
             [
              0.6666666666666666,
              "#ed7953"
             ],
             [
              0.7777777777777778,
              "#fb9f3a"
             ],
             [
              0.8888888888888888,
              "#fdca26"
             ],
             [
              1,
              "#f0f921"
             ]
            ],
            "type": "histogram2d"
           }
          ],
          "histogram2dcontour": [
           {
            "colorbar": {
             "outlinewidth": 0,
             "ticks": ""
            },
            "colorscale": [
             [
              0,
              "#0d0887"
             ],
             [
              0.1111111111111111,
              "#46039f"
             ],
             [
              0.2222222222222222,
              "#7201a8"
             ],
             [
              0.3333333333333333,
              "#9c179e"
             ],
             [
              0.4444444444444444,
              "#bd3786"
             ],
             [
              0.5555555555555556,
              "#d8576b"
             ],
             [
              0.6666666666666666,
              "#ed7953"
             ],
             [
              0.7777777777777778,
              "#fb9f3a"
             ],
             [
              0.8888888888888888,
              "#fdca26"
             ],
             [
              1,
              "#f0f921"
             ]
            ],
            "type": "histogram2dcontour"
           }
          ],
          "mesh3d": [
           {
            "colorbar": {
             "outlinewidth": 0,
             "ticks": ""
            },
            "type": "mesh3d"
           }
          ],
          "parcoords": [
           {
            "line": {
             "colorbar": {
              "outlinewidth": 0,
              "ticks": ""
             }
            },
            "type": "parcoords"
           }
          ],
          "pie": [
           {
            "automargin": true,
            "type": "pie"
           }
          ],
          "scatter": [
           {
            "marker": {
             "colorbar": {
              "outlinewidth": 0,
              "ticks": ""
             }
            },
            "type": "scatter"
           }
          ],
          "scatter3d": [
           {
            "line": {
             "colorbar": {
              "outlinewidth": 0,
              "ticks": ""
             }
            },
            "marker": {
             "colorbar": {
              "outlinewidth": 0,
              "ticks": ""
             }
            },
            "type": "scatter3d"
           }
          ],
          "scattercarpet": [
           {
            "marker": {
             "colorbar": {
              "outlinewidth": 0,
              "ticks": ""
             }
            },
            "type": "scattercarpet"
           }
          ],
          "scattergeo": [
           {
            "marker": {
             "colorbar": {
              "outlinewidth": 0,
              "ticks": ""
             }
            },
            "type": "scattergeo"
           }
          ],
          "scattergl": [
           {
            "marker": {
             "colorbar": {
              "outlinewidth": 0,
              "ticks": ""
             }
            },
            "type": "scattergl"
           }
          ],
          "scattermapbox": [
           {
            "marker": {
             "colorbar": {
              "outlinewidth": 0,
              "ticks": ""
             }
            },
            "type": "scattermapbox"
           }
          ],
          "scatterpolar": [
           {
            "marker": {
             "colorbar": {
              "outlinewidth": 0,
              "ticks": ""
             }
            },
            "type": "scatterpolar"
           }
          ],
          "scatterpolargl": [
           {
            "marker": {
             "colorbar": {
              "outlinewidth": 0,
              "ticks": ""
             }
            },
            "type": "scatterpolargl"
           }
          ],
          "scatterternary": [
           {
            "marker": {
             "colorbar": {
              "outlinewidth": 0,
              "ticks": ""
             }
            },
            "type": "scatterternary"
           }
          ],
          "surface": [
           {
            "colorbar": {
             "outlinewidth": 0,
             "ticks": ""
            },
            "colorscale": [
             [
              0,
              "#0d0887"
             ],
             [
              0.1111111111111111,
              "#46039f"
             ],
             [
              0.2222222222222222,
              "#7201a8"
             ],
             [
              0.3333333333333333,
              "#9c179e"
             ],
             [
              0.4444444444444444,
              "#bd3786"
             ],
             [
              0.5555555555555556,
              "#d8576b"
             ],
             [
              0.6666666666666666,
              "#ed7953"
             ],
             [
              0.7777777777777778,
              "#fb9f3a"
             ],
             [
              0.8888888888888888,
              "#fdca26"
             ],
             [
              1,
              "#f0f921"
             ]
            ],
            "type": "surface"
           }
          ],
          "table": [
           {
            "cells": {
             "fill": {
              "color": "#EBF0F8"
             },
             "line": {
              "color": "white"
             }
            },
            "header": {
             "fill": {
              "color": "#C8D4E3"
             },
             "line": {
              "color": "white"
             }
            },
            "type": "table"
           }
          ]
         },
         "layout": {
          "annotationdefaults": {
           "arrowcolor": "#2a3f5f",
           "arrowhead": 0,
           "arrowwidth": 1
          },
          "coloraxis": {
           "colorbar": {
            "outlinewidth": 0,
            "ticks": ""
           }
          },
          "colorscale": {
           "diverging": [
            [
             0,
             "#8e0152"
            ],
            [
             0.1,
             "#c51b7d"
            ],
            [
             0.2,
             "#de77ae"
            ],
            [
             0.3,
             "#f1b6da"
            ],
            [
             0.4,
             "#fde0ef"
            ],
            [
             0.5,
             "#f7f7f7"
            ],
            [
             0.6,
             "#e6f5d0"
            ],
            [
             0.7,
             "#b8e186"
            ],
            [
             0.8,
             "#7fbc41"
            ],
            [
             0.9,
             "#4d9221"
            ],
            [
             1,
             "#276419"
            ]
           ],
           "sequential": [
            [
             0,
             "#0d0887"
            ],
            [
             0.1111111111111111,
             "#46039f"
            ],
            [
             0.2222222222222222,
             "#7201a8"
            ],
            [
             0.3333333333333333,
             "#9c179e"
            ],
            [
             0.4444444444444444,
             "#bd3786"
            ],
            [
             0.5555555555555556,
             "#d8576b"
            ],
            [
             0.6666666666666666,
             "#ed7953"
            ],
            [
             0.7777777777777778,
             "#fb9f3a"
            ],
            [
             0.8888888888888888,
             "#fdca26"
            ],
            [
             1,
             "#f0f921"
            ]
           ],
           "sequentialminus": [
            [
             0,
             "#0d0887"
            ],
            [
             0.1111111111111111,
             "#46039f"
            ],
            [
             0.2222222222222222,
             "#7201a8"
            ],
            [
             0.3333333333333333,
             "#9c179e"
            ],
            [
             0.4444444444444444,
             "#bd3786"
            ],
            [
             0.5555555555555556,
             "#d8576b"
            ],
            [
             0.6666666666666666,
             "#ed7953"
            ],
            [
             0.7777777777777778,
             "#fb9f3a"
            ],
            [
             0.8888888888888888,
             "#fdca26"
            ],
            [
             1,
             "#f0f921"
            ]
           ]
          },
          "colorway": [
           "#636efa",
           "#EF553B",
           "#00cc96",
           "#ab63fa",
           "#FFA15A",
           "#19d3f3",
           "#FF6692",
           "#B6E880",
           "#FF97FF",
           "#FECB52"
          ],
          "font": {
           "color": "#2a3f5f"
          },
          "geo": {
           "bgcolor": "white",
           "lakecolor": "white",
           "landcolor": "#E5ECF6",
           "showlakes": true,
           "showland": true,
           "subunitcolor": "white"
          },
          "hoverlabel": {
           "align": "left"
          },
          "hovermode": "closest",
          "mapbox": {
           "style": "light"
          },
          "paper_bgcolor": "white",
          "plot_bgcolor": "#E5ECF6",
          "polar": {
           "angularaxis": {
            "gridcolor": "white",
            "linecolor": "white",
            "ticks": ""
           },
           "bgcolor": "#E5ECF6",
           "radialaxis": {
            "gridcolor": "white",
            "linecolor": "white",
            "ticks": ""
           }
          },
          "scene": {
           "xaxis": {
            "backgroundcolor": "#E5ECF6",
            "gridcolor": "white",
            "gridwidth": 2,
            "linecolor": "white",
            "showbackground": true,
            "ticks": "",
            "zerolinecolor": "white"
           },
           "yaxis": {
            "backgroundcolor": "#E5ECF6",
            "gridcolor": "white",
            "gridwidth": 2,
            "linecolor": "white",
            "showbackground": true,
            "ticks": "",
            "zerolinecolor": "white"
           },
           "zaxis": {
            "backgroundcolor": "#E5ECF6",
            "gridcolor": "white",
            "gridwidth": 2,
            "linecolor": "white",
            "showbackground": true,
            "ticks": "",
            "zerolinecolor": "white"
           }
          },
          "shapedefaults": {
           "line": {
            "color": "#2a3f5f"
           }
          },
          "ternary": {
           "aaxis": {
            "gridcolor": "white",
            "linecolor": "white",
            "ticks": ""
           },
           "baxis": {
            "gridcolor": "white",
            "linecolor": "white",
            "ticks": ""
           },
           "bgcolor": "#E5ECF6",
           "caxis": {
            "gridcolor": "white",
            "linecolor": "white",
            "ticks": ""
           }
          },
          "title": {
           "x": 0.05
          },
          "xaxis": {
           "automargin": true,
           "gridcolor": "white",
           "linecolor": "white",
           "ticks": "",
           "title": {
            "standoff": 15
           },
           "zerolinecolor": "white",
           "zerolinewidth": 2
          },
          "yaxis": {
           "automargin": true,
           "gridcolor": "white",
           "linecolor": "white",
           "ticks": "",
           "title": {
            "standoff": 15
           },
           "zerolinecolor": "white",
           "zerolinewidth": 2
          }
         }
        }
       }
      },
      "text/html": [
       "<div>\n",
       "        \n",
       "        \n",
       "            <div id=\"02b0faba-2ea7-467b-bb0c-87fffb823d2d\" class=\"plotly-graph-div\" style=\"height:300px; width:100%;\"></div>\n",
       "            <script type=\"text/javascript\">\n",
       "                require([\"plotly\"], function(Plotly) {\n",
       "                    window.PLOTLYENV=window.PLOTLYENV || {};\n",
       "                    \n",
       "                if (document.getElementById(\"02b0faba-2ea7-467b-bb0c-87fffb823d2d\")) {\n",
       "                    Plotly.newPlot(\n",
       "                        '02b0faba-2ea7-467b-bb0c-87fffb823d2d',\n",
       "                        [{\"hoverlabel\": {\"namelength\": 0}, \"hovertemplate\": \"<b>%{hovertext}</b><br><br>Latitude=%{lat}<br>Longitude=%{lon}<br>Level of endangerment=%{marker.color}\", \"hovertext\": [\"Adnyamathanha\", null, null, \"Alawa\", null, null, \"Arabana\", null, null, null, null, null, null, null, null, null, null, null, null, null, null, null, null, null, null, null, null, null, null, null, null, null, null, \"Dharawal\", null, \"Dharug\", null, null, null, \"Dhurga\", null, null, null, null, null, null, \"Djinang\", \"Dungidjau\", null, \"Dyirbal\", null, null, null, \"Ganggalidda\", null, null, null, null, null, null, null, null, null, null, \"Gumbaynggirr\", null, null, null, null, \"Gupapuyngu\", null, \"Guugu Yimidhirr\", null, null, null, null, null, null, null, null, null, null, null, null, null, null, \"Kalaw Lagaw Ya\", null, null, null, null, \"Karajarri\", null, null, null, null, null, null, null, \"Kayardild\", null, null, null, null, \"Koko Bera\", null, null, \"Kukatja\", null, \"Kuku Yalanji\", null, null, \"Kunjen\", null, \"Kurrama\", \"Kurtjar\", null, \"Kuuku Ya'u\", \"Lardil\", null, null, null, null, null, \"Mangarla\", \"Mangarla\", null, null, \"Martuwangka\", null, null, null, null, null, null, null, null, null, null, null, null, null, null, null, null, null, \"Mudburra\", \"Mudburra\", null, null, null, null, null, null, \"Ngaanyatjarra\", null, null, null, null, null, null, \"Ngarinman\", \"Ngarla\", \"Ngarluma\", null, null, null, null, null, null, null, null, null, null, null, null, null, \"Nyamal\", null, null, null, null, null, null, null, null, null, null, null, null, \"Pintupi\", null, \"Pitjantjatjara\", null, null, null, null, null, \"Ritharrngu\", null, null, null, null, null, null, \"Tharkarri\", null, null, null, null, \"Umpila\", null, null, null, null, null, null, null, \"Wajarri\", null, null, null, \"Walmajarri\", \"Walmajarri\", \"Walmajarri\", null, null, null, null, null, null, null, null, null, \"Warlpiri\", null, \"Warnman\", null, null, \"Warumungu\", null, null, null, null, null, null, null, null, \"Wik Mungkan\", \"Wik Ngathan\", \"Wiradjuri\", null, null, null, null, null, null, null, null, null, null, null, \"Yan-nhangu\", \"Yanyuwa\", null, null, null, null, null, null, null, null, null, null, null, \"Yir Yoront\", null, null, null, null, null, null, null, null, null, null, null, null, null, null, null, null, null, null, null, null, null, null, null, null, null, null, null, null, null, null], \"lat\": [-30.6, null, null, -16.4676, null, null, -28.6134, null, null, null, null, -28.616999999999997, null, null, null, null, null, null, null, null, null, null, null, null, null, null, null, null, null, null, null, null, null, -34.7235, null, -34.0344, null, null, null, -35.4964, null, null, -28.58, null, null, null, -12.3507, -26.5885, -25.4, -18.0205, null, -14.17, null, -17.1001, null, null, null, null, null, null, null, null, null, null, -30.3349, null, null, null, null, -12.6624, null, -14.8598, null, null, null, null, null, null, null, null, null, -19.15, null, null, null, null, -10.0828, null, null, null, null, -19.0205, null, -21.09, null, null, null, null, -34.8498, -17.1197, null, null, null, null, -15.6865, null, null, -21.2074, null, -15.8148, null, null, -16.1316, null, -21.6383, -18.0623, null, -12.0185, -16.5526, null, null, null, null, null, -20.159000000000002, -20.159000000000002, null, null, -24.1975, null, null, null, null, null, null, null, null, null, null, null, null, null, null, null, null, null, -16.9727, -16.9727, null, null, null, null, null, null, -26.037, null, null, null, null, null, null, -16.6782, -20.5916, -21.1664, -35.95, null, null, null, -31.28, null, null, null, null, null, null, null, null, -21.4019, null, null, null, null, -31.13, null, null, null, null, null, null, null, -22.8882, null, -26.0719, null, null, null, null, null, -13.1543, null, null, null, null, null, null, -24.148000000000003, null, null, null, null, -13.0366, null, null, null, null, null, null, null, -26.8841, null, null, null, -19.9939, -19.9939, -19.9939, null, null, null, null, null, null, null, null, null, -20.8177, null, -22.9786, null, null, -19.5183, -19.44, null, null, null, null, null, null, null, -12.9403, -14.9561, -34.5608, -31.56, -37.64, null, null, null, null, null, null, null, null, null, -12.094000000000001, -15.9613, null, null, null, null, null, null, null, null, null, null, null, -16.3095, null, null, null, null, null, null, -29.84, null, null, null, null, null, null, null, null, null, null, null, null, null, null, null, null, null, null, null, null, null, null, null], \"legendgroup\": \"\", \"lon\": [138.6035, null, null, 134.0771, null, null, 135.8349, null, null, null, null, 153.004, null, null, null, null, null, null, null, null, null, null, null, null, null, null, null, null, null, null, null, null, null, 150.5786, null, 150.9301, null, null, null, 150.249, null, null, 139.09, null, null, null, 135.1098, 152.2705, 152.345, 145.4809, null, 144.246, null, 138.3618, null, null, null, null, null, null, null, null, null, null, 152.8198, null, null, null, null, 136.549, null, 144.7338, null, null, null, null, null, null, null, null, null, 127.88, null, null, null, null, 142.1081, null, null, null, null, 122.3437, null, 117.66, null, null, null, null, 138.6474, 139.4604, null, null, null, null, 141.5917, null, null, 126.4746, null, 144.9316, null, null, 142.207, null, 117.9711, 140.4052, null, 142.8112, 139.3176, null, null, null, null, null, 122.6513, 122.6513, null, null, 122.9589, null, null, null, null, null, null, null, null, null, null, null, null, null, null, null, null, null, 131.77, 131.77, null, null, null, null, null, null, 124.541, null, null, null, null, null, null, 129.7485, 119.0917, 117.3339, 139.82, null, null, null, 146.05, null, null, null, null, null, null, null, null, 119.3225, null, null, null, null, 144.22, null, null, null, null, null, null, null, 128.3203, null, 129.9517, null, null, null, null, null, 134.8242, null, null, null, null, null, null, 114.6533, null, null, null, null, 143.3386, null, null, null, null, null, null, null, 116.6748, null, null, null, 125.5297, 125.5297, 125.5297, null, null, null, null, null, null, null, null, null, 131.6601, null, 122.7832, null, null, 133.9453, 144.65, null, null, null, null, null, null, null, 141.9873, 141.8884, 147.041, 132.85, 145.59, null, null, null, null, null, null, null, null, null, 134.89, 136.3842, null, null, null, null, null, null, null, null, null, null, null, 141.4489, null, null, null, null, null, null, 149.81, null, null, null, null, null, null, null, null, null, null, null, null, null, null, null, null, null, null, null, null, null, null, null], \"marker\": {\"color\": [2.0, null, null, 4.0, null, null, 4.0, null, null, null, null, 4.0, null, null, null, null, null, null, null, null, null, null, null, null, null, null, null, null, null, null, null, null, null, 4.0, null, 4.0, null, null, null, 4.0, null, null, null, null, null, null, 2.0, 5.0, 5.0, 4.0, null, 4.0, null, 4.0, null, null, null, null, null, null, null, null, null, null, 4.0, null, null, null, null, 1.0, null, 1.0, null, null, null, null, null, null, null, null, null, 4.0, null, null, null, null, 2.0, null, null, null, null, 4.0, null, 4.0, null, null, null, null, null, 4.0, null, null, null, null, 3.0, null, null, 1.0, null, 3.0, null, null, 4.0, null, 4.0, 5.0, null, 4.0, 4.0, null, null, null, null, null, 4.0, 4.0, null, null, 1.0, null, null, null, null, null, null, null, null, null, null, null, null, null, null, null, null, null, 3.0, 3.0, null, null, null, null, null, null, 1.0, null, null, null, null, null, null, 3.0, 5.0, 4.0, 4.0, null, null, null, 4.0, null, null, null, null, null, null, null, null, 3.0, null, null, null, null, 4.0, null, null, null, null, null, null, null, 1.0, null, 1.0, null, null, null, null, null, 2.0, null, null, null, null, null, null, 4.0, null, null, null, null, 3.0, null, null, null, null, null, null, null, 3.0, null, null, null, 2.0, 2.0, 2.0, null, null, null, null, null, null, null, null, null, 1.0, null, 3.0, null, null, 3.0, 4.0, null, null, null, null, null, null, null, 1.0, 2.0, 4.0, 4.0, 4.0, null, null, null, null, null, null, null, null, null, 2.0, 3.0, null, null, null, null, null, null, null, null, null, null, null, 5.0, null, null, null, null, null, null, 5.0, null, null, null, null, null, null, null, null, null, null, null, null, null, null, null, null, null, null, null, null, null, null, null], \"coloraxis\": \"coloraxis\", \"size\": 10}, \"mode\": \"markers\", \"name\": \"\", \"showlegend\": false, \"subplot\": \"mapbox\", \"type\": \"scattermapbox\"}],\n",
       "                        {\"coloraxis\": {\"colorbar\": {\"title\": {\"text\": \"Level of endangerment\"}}, \"colorscale\": [[0.0, \"#0d0887\"], [0.1111111111111111, \"#46039f\"], [0.2222222222222222, \"#7201a8\"], [0.3333333333333333, \"#9c179e\"], [0.4444444444444444, \"#bd3786\"], [0.5555555555555556, \"#d8576b\"], [0.6666666666666666, \"#ed7953\"], [0.7777777777777778, \"#fb9f3a\"], [0.8888888888888888, \"#fdca26\"], [1.0, \"#f0f921\"]]}, \"height\": 300, \"legend\": {\"tracegroupgap\": 0}, \"mapbox\": {\"center\": {\"lat\": -21.886687878787875, \"lon\": 135.74701363636362}, \"domain\": {\"x\": [0.0, 1.0], \"y\": [0.0, 1.0]}, \"style\": \"stamen-terrain\", \"zoom\": 3}, \"margin\": {\"b\": 0, \"l\": 0, \"r\": 50, \"t\": 0}, \"template\": {\"data\": {\"bar\": [{\"error_x\": {\"color\": \"#2a3f5f\"}, \"error_y\": {\"color\": \"#2a3f5f\"}, \"marker\": {\"line\": {\"color\": \"#E5ECF6\", \"width\": 0.5}}, \"type\": \"bar\"}], \"barpolar\": [{\"marker\": {\"line\": {\"color\": \"#E5ECF6\", \"width\": 0.5}}, \"type\": \"barpolar\"}], \"carpet\": [{\"aaxis\": {\"endlinecolor\": \"#2a3f5f\", \"gridcolor\": \"white\", \"linecolor\": \"white\", \"minorgridcolor\": \"white\", \"startlinecolor\": \"#2a3f5f\"}, \"baxis\": {\"endlinecolor\": \"#2a3f5f\", \"gridcolor\": \"white\", \"linecolor\": \"white\", \"minorgridcolor\": \"white\", \"startlinecolor\": \"#2a3f5f\"}, \"type\": \"carpet\"}], \"choropleth\": [{\"colorbar\": {\"outlinewidth\": 0, \"ticks\": \"\"}, \"type\": \"choropleth\"}], \"contour\": [{\"colorbar\": {\"outlinewidth\": 0, \"ticks\": \"\"}, \"colorscale\": [[0.0, \"#0d0887\"], [0.1111111111111111, \"#46039f\"], [0.2222222222222222, \"#7201a8\"], [0.3333333333333333, \"#9c179e\"], [0.4444444444444444, \"#bd3786\"], [0.5555555555555556, \"#d8576b\"], [0.6666666666666666, \"#ed7953\"], [0.7777777777777778, \"#fb9f3a\"], [0.8888888888888888, \"#fdca26\"], [1.0, \"#f0f921\"]], \"type\": \"contour\"}], \"contourcarpet\": [{\"colorbar\": {\"outlinewidth\": 0, \"ticks\": \"\"}, \"type\": \"contourcarpet\"}], \"heatmap\": [{\"colorbar\": {\"outlinewidth\": 0, \"ticks\": \"\"}, \"colorscale\": [[0.0, \"#0d0887\"], [0.1111111111111111, \"#46039f\"], [0.2222222222222222, \"#7201a8\"], [0.3333333333333333, \"#9c179e\"], [0.4444444444444444, \"#bd3786\"], [0.5555555555555556, \"#d8576b\"], [0.6666666666666666, \"#ed7953\"], [0.7777777777777778, \"#fb9f3a\"], [0.8888888888888888, \"#fdca26\"], [1.0, \"#f0f921\"]], \"type\": \"heatmap\"}], \"heatmapgl\": [{\"colorbar\": {\"outlinewidth\": 0, \"ticks\": \"\"}, \"colorscale\": [[0.0, \"#0d0887\"], [0.1111111111111111, \"#46039f\"], [0.2222222222222222, \"#7201a8\"], [0.3333333333333333, \"#9c179e\"], [0.4444444444444444, \"#bd3786\"], [0.5555555555555556, \"#d8576b\"], [0.6666666666666666, \"#ed7953\"], [0.7777777777777778, \"#fb9f3a\"], [0.8888888888888888, \"#fdca26\"], [1.0, \"#f0f921\"]], \"type\": \"heatmapgl\"}], \"histogram\": [{\"marker\": {\"colorbar\": {\"outlinewidth\": 0, \"ticks\": \"\"}}, \"type\": \"histogram\"}], \"histogram2d\": [{\"colorbar\": {\"outlinewidth\": 0, \"ticks\": \"\"}, \"colorscale\": [[0.0, \"#0d0887\"], [0.1111111111111111, \"#46039f\"], [0.2222222222222222, \"#7201a8\"], [0.3333333333333333, \"#9c179e\"], [0.4444444444444444, \"#bd3786\"], [0.5555555555555556, \"#d8576b\"], [0.6666666666666666, \"#ed7953\"], [0.7777777777777778, \"#fb9f3a\"], [0.8888888888888888, \"#fdca26\"], [1.0, \"#f0f921\"]], \"type\": \"histogram2d\"}], \"histogram2dcontour\": [{\"colorbar\": {\"outlinewidth\": 0, \"ticks\": \"\"}, \"colorscale\": [[0.0, \"#0d0887\"], [0.1111111111111111, \"#46039f\"], [0.2222222222222222, \"#7201a8\"], [0.3333333333333333, \"#9c179e\"], [0.4444444444444444, \"#bd3786\"], [0.5555555555555556, \"#d8576b\"], [0.6666666666666666, \"#ed7953\"], [0.7777777777777778, \"#fb9f3a\"], [0.8888888888888888, \"#fdca26\"], [1.0, \"#f0f921\"]], \"type\": \"histogram2dcontour\"}], \"mesh3d\": [{\"colorbar\": {\"outlinewidth\": 0, \"ticks\": \"\"}, \"type\": \"mesh3d\"}], \"parcoords\": [{\"line\": {\"colorbar\": {\"outlinewidth\": 0, \"ticks\": \"\"}}, \"type\": \"parcoords\"}], \"pie\": [{\"automargin\": true, \"type\": \"pie\"}], \"scatter\": [{\"marker\": {\"colorbar\": {\"outlinewidth\": 0, \"ticks\": \"\"}}, \"type\": \"scatter\"}], \"scatter3d\": [{\"line\": {\"colorbar\": {\"outlinewidth\": 0, \"ticks\": \"\"}}, \"marker\": {\"colorbar\": {\"outlinewidth\": 0, \"ticks\": \"\"}}, \"type\": \"scatter3d\"}], \"scattercarpet\": [{\"marker\": {\"colorbar\": {\"outlinewidth\": 0, \"ticks\": \"\"}}, \"type\": \"scattercarpet\"}], \"scattergeo\": [{\"marker\": {\"colorbar\": {\"outlinewidth\": 0, \"ticks\": \"\"}}, \"type\": \"scattergeo\"}], \"scattergl\": [{\"marker\": {\"colorbar\": {\"outlinewidth\": 0, \"ticks\": \"\"}}, \"type\": \"scattergl\"}], \"scattermapbox\": [{\"marker\": {\"colorbar\": {\"outlinewidth\": 0, \"ticks\": \"\"}}, \"type\": \"scattermapbox\"}], \"scatterpolar\": [{\"marker\": {\"colorbar\": {\"outlinewidth\": 0, \"ticks\": \"\"}}, \"type\": \"scatterpolar\"}], \"scatterpolargl\": [{\"marker\": {\"colorbar\": {\"outlinewidth\": 0, \"ticks\": \"\"}}, \"type\": \"scatterpolargl\"}], \"scatterternary\": [{\"marker\": {\"colorbar\": {\"outlinewidth\": 0, \"ticks\": \"\"}}, \"type\": \"scatterternary\"}], \"surface\": [{\"colorbar\": {\"outlinewidth\": 0, \"ticks\": \"\"}, \"colorscale\": [[0.0, \"#0d0887\"], [0.1111111111111111, \"#46039f\"], [0.2222222222222222, \"#7201a8\"], [0.3333333333333333, \"#9c179e\"], [0.4444444444444444, \"#bd3786\"], [0.5555555555555556, \"#d8576b\"], [0.6666666666666666, \"#ed7953\"], [0.7777777777777778, \"#fb9f3a\"], [0.8888888888888888, \"#fdca26\"], [1.0, \"#f0f921\"]], \"type\": \"surface\"}], \"table\": [{\"cells\": {\"fill\": {\"color\": \"#EBF0F8\"}, \"line\": {\"color\": \"white\"}}, \"header\": {\"fill\": {\"color\": \"#C8D4E3\"}, \"line\": {\"color\": \"white\"}}, \"type\": \"table\"}]}, \"layout\": {\"annotationdefaults\": {\"arrowcolor\": \"#2a3f5f\", \"arrowhead\": 0, \"arrowwidth\": 1}, \"coloraxis\": {\"colorbar\": {\"outlinewidth\": 0, \"ticks\": \"\"}}, \"colorscale\": {\"diverging\": [[0, \"#8e0152\"], [0.1, \"#c51b7d\"], [0.2, \"#de77ae\"], [0.3, \"#f1b6da\"], [0.4, \"#fde0ef\"], [0.5, \"#f7f7f7\"], [0.6, \"#e6f5d0\"], [0.7, \"#b8e186\"], [0.8, \"#7fbc41\"], [0.9, \"#4d9221\"], [1, \"#276419\"]], \"sequential\": [[0.0, \"#0d0887\"], [0.1111111111111111, \"#46039f\"], [0.2222222222222222, \"#7201a8\"], [0.3333333333333333, \"#9c179e\"], [0.4444444444444444, \"#bd3786\"], [0.5555555555555556, \"#d8576b\"], [0.6666666666666666, \"#ed7953\"], [0.7777777777777778, \"#fb9f3a\"], [0.8888888888888888, \"#fdca26\"], [1.0, \"#f0f921\"]], \"sequentialminus\": [[0.0, \"#0d0887\"], [0.1111111111111111, \"#46039f\"], [0.2222222222222222, \"#7201a8\"], [0.3333333333333333, \"#9c179e\"], [0.4444444444444444, \"#bd3786\"], [0.5555555555555556, \"#d8576b\"], [0.6666666666666666, \"#ed7953\"], [0.7777777777777778, \"#fb9f3a\"], [0.8888888888888888, \"#fdca26\"], [1.0, \"#f0f921\"]]}, \"colorway\": [\"#636efa\", \"#EF553B\", \"#00cc96\", \"#ab63fa\", \"#FFA15A\", \"#19d3f3\", \"#FF6692\", \"#B6E880\", \"#FF97FF\", \"#FECB52\"], \"font\": {\"color\": \"#2a3f5f\"}, \"geo\": {\"bgcolor\": \"white\", \"lakecolor\": \"white\", \"landcolor\": \"#E5ECF6\", \"showlakes\": true, \"showland\": true, \"subunitcolor\": \"white\"}, \"hoverlabel\": {\"align\": \"left\"}, \"hovermode\": \"closest\", \"mapbox\": {\"style\": \"light\"}, \"paper_bgcolor\": \"white\", \"plot_bgcolor\": \"#E5ECF6\", \"polar\": {\"angularaxis\": {\"gridcolor\": \"white\", \"linecolor\": \"white\", \"ticks\": \"\"}, \"bgcolor\": \"#E5ECF6\", \"radialaxis\": {\"gridcolor\": \"white\", \"linecolor\": \"white\", \"ticks\": \"\"}}, \"scene\": {\"xaxis\": {\"backgroundcolor\": \"#E5ECF6\", \"gridcolor\": \"white\", \"gridwidth\": 2, \"linecolor\": \"white\", \"showbackground\": true, \"ticks\": \"\", \"zerolinecolor\": \"white\"}, \"yaxis\": {\"backgroundcolor\": \"#E5ECF6\", \"gridcolor\": \"white\", \"gridwidth\": 2, \"linecolor\": \"white\", \"showbackground\": true, \"ticks\": \"\", \"zerolinecolor\": \"white\"}, \"zaxis\": {\"backgroundcolor\": \"#E5ECF6\", \"gridcolor\": \"white\", \"gridwidth\": 2, \"linecolor\": \"white\", \"showbackground\": true, \"ticks\": \"\", \"zerolinecolor\": \"white\"}}, \"shapedefaults\": {\"line\": {\"color\": \"#2a3f5f\"}}, \"ternary\": {\"aaxis\": {\"gridcolor\": \"white\", \"linecolor\": \"white\", \"ticks\": \"\"}, \"baxis\": {\"gridcolor\": \"white\", \"linecolor\": \"white\", \"ticks\": \"\"}, \"bgcolor\": \"#E5ECF6\", \"caxis\": {\"gridcolor\": \"white\", \"linecolor\": \"white\", \"ticks\": \"\"}}, \"title\": {\"x\": 0.05}, \"xaxis\": {\"automargin\": true, \"gridcolor\": \"white\", \"linecolor\": \"white\", \"ticks\": \"\", \"title\": {\"standoff\": 15}, \"zerolinecolor\": \"white\", \"zerolinewidth\": 2}, \"yaxis\": {\"automargin\": true, \"gridcolor\": \"white\", \"linecolor\": \"white\", \"ticks\": \"\", \"title\": {\"standoff\": 15}, \"zerolinecolor\": \"white\", \"zerolinewidth\": 2}}}},\n",
       "                        {\"responsive\": true}\n",
       "                    ).then(function(){\n",
       "                            \n",
       "var gd = document.getElementById('02b0faba-2ea7-467b-bb0c-87fffb823d2d');\n",
       "var x = new MutationObserver(function (mutations, observer) {{\n",
       "        var display = window.getComputedStyle(gd).display;\n",
       "        if (!display || display === 'none') {{\n",
       "            console.log([gd, 'removed!']);\n",
       "            Plotly.purge(gd);\n",
       "            observer.disconnect();\n",
       "        }}\n",
       "}});\n",
       "\n",
       "// Listen for the removal of the full notebook cells\n",
       "var notebookContainer = gd.closest('#notebook-container');\n",
       "if (notebookContainer) {{\n",
       "    x.observe(notebookContainer, {childList: true});\n",
       "}}\n",
       "\n",
       "// Listen for the clearing of the current output cell\n",
       "var outputEl = gd.closest('.output');\n",
       "if (outputEl) {{\n",
       "    x.observe(outputEl, {childList: true});\n",
       "}}\n",
       "\n",
       "                        })\n",
       "                };\n",
       "                });\n",
       "            </script>\n",
       "        </div>"
      ]
     },
     "metadata": {},
     "output_type": "display_data"
    }
   ],
   "source": [
    "fig = px.scatter_mapbox(pn, lat=\"Latitude\", lon=\"Longitude\", hover_name=\"Name in English\", color=\"Level of endangerment\", color_discrete_sequence=px.colors.sequential.Plasma_r, zoom=3, height=300,size_max=200)\n",
    "fig.update_layout(mapbox_style=\"stamen-terrain\")\n",
    "fig.update_layout(margin={\"r\":50,\"t\":0,\"l\":0,\"b\":0})\n",
    "fig.update_traces(marker=dict(size=10)) \n",
    "fig.show()"
   ]
  },
  {
   "cell_type": "code",
   "execution_count": 57,
   "metadata": {
    "scrolled": false
   },
   "outputs": [
    {
     "data": {
      "text/plain": [
       "<matplotlib.axes._subplots.AxesSubplot at 0x7ff062b97c90>"
      ]
     },
     "execution_count": 57,
     "metadata": {},
     "output_type": "execute_result"
    },
    {
     "data": {
      "image/png": "[encoded data removed]",
      "text/plain": [
       "<Figure size 432x288 with 1 Axes>"
      ]
     },
     "metadata": {
      "needs_background": "light"
     },
     "output_type": "display_data"
    }
   ],
   "source": [
    "sns.boxplot(x='Level of endangerment',y='Log_speaker',data=df,width=0.8)"
   ]
  },
  {
   "cell_type": "code",
   "execution_count": 20,
   "metadata": {},
   "outputs": [
    {
     "name": "stderr",
     "output_type": "stream",
     "text": [
      "/opt/anaconda3/lib/python3.7/site-packages/ipykernel_launcher.py:1: RuntimeWarning:\n",
      "\n",
      "divide by zero encountered in log10\n",
      "\n",
      "/opt/anaconda3/lib/python3.7/site-packages/matplotlib/cbook/__init__.py:1291: RuntimeWarning:\n",
      "\n",
      "invalid value encountered in double_scalars\n",
      "\n",
      "/opt/anaconda3/lib/python3.7/site-packages/matplotlib/cbook/__init__.py:1316: RuntimeWarning:\n",
      "\n",
      "invalid value encountered in less_equal\n",
      "\n",
      "/opt/anaconda3/lib/python3.7/site-packages/matplotlib/cbook/__init__.py:1323: RuntimeWarning:\n",
      "\n",
      "invalid value encountered in greater_equal\n",
      "\n"
     ]
    },
    {
     "data": {
      "text/plain": [
       "<matplotlib.axes._subplots.AxesSubplot at 0x7f89fad837d0>"
      ]
     },
     "execution_count": 20,
     "metadata": {},
     "output_type": "execute_result"
    },
    {
     "data": {
      "image/png": "[encoded data removed]",
      "text/plain": [
       "<Figure size 432x288 with 1 Axes>"
      ]
     },
     "metadata": {
      "needs_background": "light"
     },
     "output_type": "display_data"
    }
   ],
   "source": [
    "pn[['Log_speaker']]=np.log10(pn[['Number of speakers']])\n",
    "sns.boxplot(x='Level of endangerment',y='Log_speaker',data=pn,width=0.8)"
   ]
  },
  {
   "cell_type": "code",
   "execution_count": null,
   "metadata": {},
   "outputs": [],
   "source": [
    "sns.boxplot(x='',y='Log_speaker',data=df)"
   ]
  },
  {
   "cell_type": "code",
   "execution_count": 47,
   "metadata": {},
   "outputs": [],
   "source": [
    "df[['Log_speaker']]=np.log10(df[['Number of speakers']])"
   ]
  },
  {
   "cell_type": "code",
   "execution_count": 59,
   "metadata": {},
   "outputs": [
    {
     "data": {
      "text/plain": [
       "<seaborn.axisgrid.FacetGrid at 0x7ff062cb4ed0>"
      ]
     },
     "execution_count": 59,
     "metadata": {},
     "output_type": "execute_result"
    },
    {
     "data": {
      "image/png": "[encoded data removed]",
      "text/plain": [
       "<Figure size 1296x216 with 6 Axes>"
      ]
     },
     "metadata": {
      "needs_background": "light"
     },
     "output_type": "display_data"
    }
   ],
   "source": [
    "g = sns.FacetGrid(data=df,col='Level of endangerment')\n",
    "g.map(plt.hist,'Log_speaker')"
   ]
  },
  {
   "cell_type": "code",
   "execution_count": 58,
   "metadata": {},
   "outputs": [
    {
     "data": {
      "text/plain": [
       "<matplotlib.axes._subplots.AxesSubplot at 0x7ff062c12390>"
      ]
     },
     "execution_count": 58,
     "metadata": {},
     "output_type": "execute_result"
    },
    {
     "data": {
      "image/png": "[encoded data removed]",
      "text/plain": [
       "<Figure size 432x288 with 1 Axes>"
      ]
     },
     "metadata": {
      "needs_background": "light"
     },
     "output_type": "display_data"
    }
   ],
   "source": [
    "sns.boxplot(x='Community Marriage Organisation',y='Log_speaker',data=df,width=0.8)"
   ]
  },
  {
   "cell_type": "code",
   "execution_count": 22,
   "metadata": {},
   "outputs": [
    {
     "data": {
      "text/plain": [
       "<matplotlib.axes._subplots.AxesSubplot at 0x7f8a18ca7050>"
      ]
     },
     "execution_count": 22,
     "metadata": {},
     "output_type": "execute_result"
    },
    {
     "data": {
      "image/png": "[encoded data removed]",
      "text/plain": [
       "<Figure size 432x288 with 1 Axes>"
      ]
     },
     "metadata": {
      "needs_background": "light"
     },
     "output_type": "display_data"
    }
   ],
   "source": [
    "sns.boxplot(x='Community marriage organisation',y='Log_speaker',data=pn,width=0.8)"
   ]
  },
  {
   "cell_type": "code",
   "execution_count": null,
   "metadata": {},
   "outputs": [],
   "source": []
  },
  {
   "cell_type": "code",
   "execution_count": 60,
   "metadata": {},
   "outputs": [
    {
     "data": {
      "text/html": [
       "<div>\n",
       "<style scoped>\n",
       "    .dataframe tbody tr th:only-of-type {\n",
       "        vertical-align: middle;\n",
       "    }\n",
       "\n",
       "    .dataframe tbody tr th {\n",
       "        vertical-align: top;\n",
       "    }\n",
       "\n",
       "    .dataframe thead th {\n",
       "        text-align: right;\n",
       "    }\n",
       "</style>\n",
       "<table border=\"1\" class=\"dataframe\">\n",
       "  <thead>\n",
       "    <tr style=\"text-align: right;\">\n",
       "      <th>Community Marriage Organisation</th>\n",
       "      <th>Agamous</th>\n",
       "      <th>Endogamy</th>\n",
       "    </tr>\n",
       "    <tr>\n",
       "      <th>Level of endangerment</th>\n",
       "      <th></th>\n",
       "      <th></th>\n",
       "    </tr>\n",
       "  </thead>\n",
       "  <tbody>\n",
       "    <tr>\n",
       "      <td>0.0</td>\n",
       "      <td>6.127636</td>\n",
       "      <td>7.518514</td>\n",
       "    </tr>\n",
       "    <tr>\n",
       "      <td>1.0</td>\n",
       "      <td>5.501267</td>\n",
       "      <td>5.056118</td>\n",
       "    </tr>\n",
       "    <tr>\n",
       "      <td>2.0</td>\n",
       "      <td>4.645854</td>\n",
       "      <td>NaN</td>\n",
       "    </tr>\n",
       "    <tr>\n",
       "      <td>4.0</td>\n",
       "      <td>NaN</td>\n",
       "      <td>4.019116</td>\n",
       "    </tr>\n",
       "  </tbody>\n",
       "</table>\n",
       "</div>"
      ],
      "text/plain": [
       "Community Marriage Organisation   Agamous  Endogamy\n",
       "Level of endangerment                              \n",
       "0.0                              6.127636  7.518514\n",
       "1.0                              5.501267  5.056118\n",
       "2.0                              4.645854       NaN\n",
       "4.0                                   NaN  4.019116"
      ]
     },
     "execution_count": 60,
     "metadata": {},
     "output_type": "execute_result"
    }
   ],
   "source": [
    "df.pivot_table(values='Log_speaker',index='Level of endangerment',columns='Community Marriage Organisation')"
   ]
  },
  {
   "cell_type": "code",
   "execution_count": 68,
   "metadata": {},
   "outputs": [
    {
     "data": {
      "text/plain": [
       "<matplotlib.axes._subplots.AxesSubplot at 0x7ff0529eb910>"
      ]
     },
     "execution_count": 68,
     "metadata": {},
     "output_type": "execute_result"
    },
    {
     "data": {
      "image/png": "[encoded data removed]",
      "text/plain": [
       "<Figure size 432x288 with 2 Axes>"
      ]
     },
     "metadata": {
      "needs_background": "light"
     },
     "output_type": "display_data"
    }
   ],
   "source": [
    "pvd = df.pivot_table(values='Log_speaker',index='Level of endangerment',columns='Community Marriage Organisation')\n",
    "sns.heatmap(pvd,cmap='magma',linecolor='white',linewidths=2)"
   ]
  },
  {
   "cell_type": "code",
   "execution_count": 67,
   "metadata": {},
   "outputs": [
    {
     "data": {
      "text/plain": [
       "<matplotlib.axes._subplots.AxesSubplot at 0x7ff05289b350>"
      ]
     },
     "execution_count": 67,
     "metadata": {},
     "output_type": "execute_result"
    },
    {
     "data": {
      "image/png": "[encoded data removed]",
      "text/plain": [
       "<Figure size 432x288 with 2 Axes>"
      ]
     },
     "metadata": {
      "needs_background": "light"
     },
     "output_type": "display_data"
    }
   ],
   "source": [
    "pvd = df.pivot_table(values='Log_speaker',index='Community Marriage Organisation',columns='Level of endangerment',)\n",
    "sns.heatmap(pvd,cmap='magma',linecolor='white',linewidths=1)"
   ]
  },
  {
   "cell_type": "code",
   "execution_count": null,
   "metadata": {},
   "outputs": [],
   "source": []
  }
 ],
 "metadata": {
  "kernelspec": {
   "display_name": "Python 3",
   "language": "python",
   "name": "python3"
  },
  "language_info": {
   "codemirror_mode": {
    "name": "ipython",
    "version": 3
   },
   "file_extension": ".py",
   "mimetype": "text/x-python",
   "name": "python",
   "nbconvert_exporter": "python",
   "pygments_lexer": "ipython3",
   "version": "3.7.4"
  }
 },
 "nbformat": 4,
 "nbformat_minor": 4
}
